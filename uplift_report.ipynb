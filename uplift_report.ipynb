{
 "cells": [
  {
   "cell_type": "markdown",
   "metadata": {
    "colab_type": "text",
    "id": "view-in-github"
   },
   "source": [
    "<a href=\"https://colab.research.google.com/github/remerge/uplift-report/blob/master/uplift_report.ipynb\" target=\"_parent\"><img src=\"https://colab.research.google.com/assets/colab-badge.svg\" alt=\"Open In Colab\"/></a>"
   ]
  },
  {
   "cell_type": "markdown",
   "metadata": {
    "colab_type": "text",
    "id": "5mOAgeTNy0-o"
   },
   "source": [
    "# remerge uplift report\n",
    "\n",
    "This notebook allows you to validate remerge provided uplift reporting numbers. To do so it downloads and analyses exported campaign and event data from S3. The campaign data contains all users that remerge marked to be part of an uplift test, the A/B group assignment, the timestamp of marking, conversion events (click, app open or similar) and their cost. The event data reflects the app event stream and includes events, their timestamp and revenue (if any). We calculate the incremental revenue and the iROAS in line with the [remerge whitepaper](https://drive.google.com/file/d/1PTJ93Cpjw1BeiVns8dTcs2zDDWmmjpdc/view). \n",
    "\n",
    "**Hint**: This notebook can be run in any Jupyter instance with enough space/memory, as a [Google Colab notebook](#Google-Colab-version) or as a standalone Python script. If you are using a copy of this notebook running on Colab or locally you can find the original template on [GitHub: remerge/uplift-report](https://github.com/remerge/uplift-report/blob/master/uplift_report_per_campaign.ipynb)\n",
    "\n",
    "### Notebook configuration\n",
    "\n",
    "For this notebook to work properly several variables in the [Configuration](#Configuration) section need to be be set: `customer`, `audience`, `\n",
    "revenue_event`, `dates` and the AWS credentials. All of these will be provided by your remerge account manager. \n",
    "\n",
    "\n",
    "### Verification\n",
    "\n",
    "To verify that the group split is random and has no bias, user events / attributes before the campaign start can be compared and checked for an equal distribution in test and control group. For example the user age distribution, the user activity distribution or the average spend per user  should be the same in both groups pre campaign.\n",
    "\n"
   ]
  },
  {
   "cell_type": "markdown",
   "metadata": {
    "colab_type": "text",
    "id": "QTxBfrT4_Vvr"
   },
   "source": []
  },
  {
   "cell_type": "markdown",
   "metadata": {
    "colab_type": "text",
    "id": "OYbsRBPTaCZW"
   },
   "source": [
    "## Google Colab support\n",
    "\n",
    "This notebook can be run inside Google Colab. Due to size limitations it cointains several optimizations like removing unused fields from the input files and caching files. Furthermore it installs missing dependencies and restarts the kernel. **Because pandas is upgraded the kernel needs to be restarted once per fresh instance. Just run the cell again after restart** "
   ]
  },
  {
   "cell_type": "code",
   "execution_count": null,
   "metadata": {
    "colab": {},
    "colab_type": "code",
    "id": "QoJAOpL0aEIT"
   },
   "outputs": [],
   "source": [
    "try:\n",
    "    import google.colab\n",
    "\n",
    "    IN_COLAB = True\n",
    "except:\n",
    "    IN_COLAB = False\n",
    "\n",
    "if IN_COLAB:\n",
    "    !pip install pyarrow\n",
    "    \n",
    "    import pandas as pdt\n",
    "    if pdt.__version__ != '0.23.4':\n",
    "        # upgrading pandas requires a restart of the kernel\n",
    "        # (we need an up to date pandas because we write to S3 for caching)\n",
    "        # we kill it and let it auto restart (only needed once per fresh instance)\n",
    "        !pip install pandas==0.23.4\n",
    "        \n",
    "        import os\n",
    "        os.kill(os.getpid(), 9)"
   ]
  },
  {
   "cell_type": "markdown",
   "metadata": {
    "colab_type": "text",
    "id": "kyYz6TCny0-q"
   },
   "source": [
    "## Import needed packages\n",
    "\n",
    "This notebook/script needs pandas and scipy for analysis and boto to access data store on S3.\n"
   ]
  },
  {
   "cell_type": "code",
   "execution_count": null,
   "metadata": {
    "colab": {},
    "colab_type": "code",
    "id": "GWizAQT3y0-r"
   },
   "outputs": [],
   "source": [
    "from datetime import datetime\n",
    "import pandas as pd\n",
    "import re\n",
    "import os\n",
    "import gzip\n",
    "import scipy\n",
    "import scipy.stats\n",
    "import s3fs\n",
    "from IPython.display import display  # so we can run this as script as well\n",
    "import gc"
   ]
  },
  {
   "cell_type": "code",
   "execution_count": null,
   "metadata": {},
   "outputs": [],
   "source": [
    "import pyarrow\n",
    "print(pyarrow.__version__)"
   ]
  },
  {
   "cell_type": "markdown",
   "metadata": {
    "colab_type": "text",
    "id": "8u6Q76fCy0-u"
   },
   "source": [
    "## Configuration\n",
    "\n",
    "Set the customer name, audience and access credentials for the S3 bucket and path. Furthermore the event for which we want to evaluate the uplift needs to be set `revenue_event`."
   ]
  },
  {
   "cell_type": "code",
   "execution_count": null,
   "metadata": {
    "colab": {},
    "colab_type": "code",
    "id": "wFgBi4jvsVTn"
   },
   "outputs": [],
   "source": [
    "# configure path and revenue event \n",
    "customer = ''\n",
    "audiences = []\n",
    "revenue_event = ''\n",
    "\n",
    "# date range for the report in format YYYY-MM-DD\n",
    "dates = pd.date_range(start='2019-03-19', end='2019-04-08')\n",
    "\n",
    "# AWS credentials\n",
    "os.environ['AWS_ACCESS_KEY_ID'] = ''\n",
    "os.environ['AWS_SECRET_ACCESS_KEY'] = ''\n",
    "\n",
    "# Configure the reporting output: \n",
    "\n",
    "# named groups that aggregate several campaigns\n",
    "groups = {}\n",
    "\n",
    "# show uplift results per campaign:\n",
    "per_campaign_results = False\n",
    "\n",
    "# base statistical calculations on unique converters instead of conversions\n",
    "use_converters_for_significance = False\n",
    "\n",
    "# use bayesian analysis\n",
    "run_bayesian_analysis = True"
   ]
  },
  {
   "cell_type": "markdown",
   "metadata": {
    "colab_type": "text",
    "id": "7XnJeThPiSye"
   },
   "source": [
    "## Helper\n",
    "Define a few helper functions to load and cache data."
   ]
  },
  {
   "cell_type": "code",
   "execution_count": null,
   "metadata": {
    "colab": {},
    "colab_type": "code",
    "id": "DjkoB3CXJI9e"
   },
   "outputs": [],
   "source": [
    "def path(audience):\n",
    "    return \"s3://remerge-customers/{0}/uplift_data/{1}\".format(customer, audience)\n",
    "\n",
    "\n",
    "def filter_attributions_df(df):\n",
    "    return df[df.partner_event == revenue_event]\n",
    "\n",
    "\n",
    "# helper to download CSV files, convert to DF and print time needed\n",
    "# caches files locally and on S3 to be reused\n",
    "def read_csv(audience, source, date, chunk_filter_fn=None, chunk_size=10 ** 6):\n",
    "    now = datetime.now()\n",
    "\n",
    "    date_str = date.strftime('%Y%m%d')\n",
    "\n",
    "    filename = '{0}/{1}/{2}.csv.gz'.format(path(audience), source, date_str)\n",
    "\n",
    "    # local cache\n",
    "    cache_dir = 'cache/{0}/{1}'.format(audience, source)\n",
    "    cache_filename = '{0}/{1}.parquet'.format(cache_dir, date_str)\n",
    "\n",
    "    # s3 cache (useful if we don't have enough space on the Colab instance)\n",
    "    s3_cache_filename = '{0}/{1}/cache/{2}.parquet'.format(path(audience),\n",
    "                                                           source, date_str)\n",
    "\n",
    "    if source == 'attributions':\n",
    "        cache_filename = '{0}/{1}-{2}.parquet'.format(cache_dir, date_str,\n",
    "                                                      revenue_event)\n",
    "\n",
    "        # s3 cache (useful if we don't have enough space on the Colab instance)\n",
    "        s3_cache_filename = '{0}/{1}/cache/{2}-{3}.parquet' \\\n",
    "            .format(path(audience), source, date_str, revenue_event)\n",
    "\n",
    "    if os.path.exists(cache_filename):\n",
    "        print(now, 'loading from', cache_filename)\n",
    "        return pd.read_parquet(cache_filename, engine='pyarrow')\n",
    "\n",
    "    fs = s3fs.S3FileSystem(anon=False)\n",
    "\n",
    "    if fs.exists(path=s3_cache_filename):\n",
    "        print(now, 'loading from S3 cache', s3_cache_filename)\n",
    "        return pd.read_parquet(s3_cache_filename, engine='pyarrow')\n",
    "\n",
    "    print(now, 'start loading CSV for', audience, source, date)\n",
    "\n",
    "    read_csv_kwargs = {'chunksize': chunk_size}\n",
    "\n",
    "    if source == 'attributions':\n",
    "        # Only read the columns that are going to be used from attribution\n",
    "        read_csv_kwargs['usecols'] = ['ts', 'user_id', 'partner_event',\n",
    "                                      'revenue_eur', 'ab_test_group']\n",
    "\n",
    "    df = pd.DataFrame()\n",
    "    for chunk in pd.read_csv(filename, escapechar='\\\\', low_memory=False,\n",
    "                             **read_csv_kwargs):\n",
    "        if chunk_filter_fn:\n",
    "            filtered_chunk = chunk_filter_fn(chunk)\n",
    "        else:\n",
    "            filtered_chunk = chunk\n",
    "\n",
    "        df = pd.concat([df, filtered_chunk],\n",
    "                       ignore_index=True, verify_integrity=True)\n",
    "\n",
    "    print(datetime.now(), 'finished loading CSV for', date.strftime('%d.%m.%Y'),\n",
    "          'took', datetime.now() - now)\n",
    "\n",
    "    if not os.path.exists(cache_dir):\n",
    "        os.makedirs(cache_dir)\n",
    "\n",
    "    df.to_parquet(cache_filename, engine='pyarrow')\n",
    "\n",
    "    # write it to the S3 cache folder as well\n",
    "    print(datetime.now(), 'caching as parquet', s3_cache_filename)\n",
    "\n",
    "    df.to_parquet(s3_cache_filename, engine='pyarrow')\n",
    "    return df"
   ]
  },
  {
   "cell_type": "markdown",
   "metadata": {
    "colab_type": "text",
    "id": "eSixTLyiy0_A"
   },
   "source": [
    "## Load CSV data from S3\n",
    "\n",
    "Load mark, spend and event data from S3. \n",
    "\n",
    "### IMPORTANT\n",
    "\n",
    "**The event data is usually quite large (several GB) so this operation might take several minutes or hours to complete, depending on the size and connection.**"
   ]
  },
  {
   "cell_type": "code",
   "execution_count": null,
   "metadata": {
    "colab": {},
    "colab_type": "code",
    "id": "PjWaWZS-y0_B"
   },
   "outputs": [],
   "source": [
    "bids_df = pd.concat(\n",
    "    [read_csv(audience, 'marks_and_spend', date) for audience in audiences for date in dates],\n",
    "    ignore_index=True, verify_integrity=True)"
   ]
  },
  {
   "cell_type": "code",
   "execution_count": null,
   "metadata": {
    "colab": {},
    "colab_type": "code",
    "id": "kFg_-_EW5TR1"
   },
   "outputs": [],
   "source": [
    "attributions_df = pd.concat(\n",
    "    [read_csv(audience, 'attributions', date, filter_attributions_df) for audience in audiences for date in dates],\n",
    "    ignore_index=True, verify_integrity=True)"
   ]
  },
  {
   "cell_type": "markdown",
   "metadata": {
    "colab_type": "text",
    "id": "Ec_qFUaVy0_I"
   },
   "source": [
    "Print some statistics of the loaded data sets."
   ]
  },
  {
   "cell_type": "code",
   "execution_count": null,
   "metadata": {
    "colab": {},
    "colab_type": "code",
    "id": "N0Ih6SSuy0_J"
   },
   "outputs": [],
   "source": [
    "bids_df.info()"
   ]
  },
  {
   "cell_type": "code",
   "execution_count": null,
   "metadata": {
    "colab": {},
    "colab_type": "code",
    "id": "EoU_cW07y0_M"
   },
   "outputs": [],
   "source": [
    "attributions_df.info()"
   ]
  },
  {
   "cell_type": "markdown",
   "metadata": {
    "colab_type": "text",
    "id": "mFwmhMrJy0_z"
   },
   "source": [
    "## Remove invalid users\n",
    "\n",
    "Due to a race condition during marking we need to filter out users that are marked as *control* and *test*. In rare cases we see the same user on different servers in the same second, and unknowingly of each other marked him differently. This was fixed in the latest version of the remerge plattform but we need to filter old data."
   ]
  },
  {
   "cell_type": "code",
   "execution_count": null,
   "metadata": {
    "colab": {},
    "colab_type": "code",
    "id": "5bnOSTKly0_1"
   },
   "outputs": [],
   "source": [
    "# users that are in both groups due to racy bids are invalid\n",
    "# we need to filter them out\n",
    "groups_per_user = bids_df.groupby('user_id')['ab_test_group'].nunique()\n",
    "\n",
    "invalid_users = groups_per_user[groups_per_user > 1]"
   ]
  },
  {
   "cell_type": "markdown",
   "metadata": {
    "colab_type": "text",
    "id": "4XVQNpr9y0_7"
   },
   "source": [
    "## Define functions to prepare data frames\n"
   ]
  },
  {
   "cell_type": "markdown",
   "metadata": {
    "colab_type": "text",
    "id": "IPPvDwWIy1AC"
   },
   "source": [
    "Calculate the cost of advertising give a dataframe. Remerge tracks monetary values in micro currency units. "
   ]
  },
  {
   "cell_type": "code",
   "execution_count": null,
   "metadata": {
    "colab": {},
    "colab_type": "code",
    "id": "ZEISdQDny1AC"
   },
   "outputs": [],
   "source": [
    "def ad_spend(df):\n",
    "    ad_spend_micros = df[df.event_type == 'buying_conversion']['cost_eur'].sum()\n",
    "    \n",
    "    return ad_spend_micros / 10 ** 6"
   ]
  },
  {
   "cell_type": "markdown",
   "metadata": {
    "colab_type": "text",
    "id": "XgJuPnbAJu3w"
   },
   "source": [
    "The dataframe created by `marked`  will contain all mark events (without the invalid marks). Remerge marks users per campaign.  If a user was marked once for an audience he will have the same group allocation for consecutive marks (different campaigns) unless manually reset on audience level.  "
   ]
  },
  {
   "cell_type": "code",
   "execution_count": null,
   "metadata": {
    "colab": {},
    "colab_type": "code",
    "id": "a6XtI0Iqy0_8"
   },
   "outputs": [],
   "source": [
    "def marked(df):\n",
    "    mark_df = df[df.event_type == 'mark']\n",
    "    \n",
    "    mark_df = mark_df[~mark_df['user_id'].isin(invalid_users.index)]\n",
    "    \n",
    "    sorted_mark_df = mark_df.sort_values('ts')\n",
    "    \n",
    "    deduplicated_mark_df = sorted_mark_df.drop_duplicates(['user_id'])\n",
    "    \n",
    "    return deduplicated_mark_df"
   ]
  },
  {
   "cell_type": "markdown",
   "metadata": {
    "colab_type": "text",
    "id": "EM9SbRf2y1AG"
   },
   "source": [
    "`revenue` creates a dataframe that contains all relevant revenue events."
   ]
  },
  {
   "cell_type": "code",
   "execution_count": null,
   "metadata": {
    "colab": {},
    "colab_type": "code",
    "id": "ONjCFbzIy1AH"
   },
   "outputs": [],
   "source": [
    "def revenue(df):\n",
    "    #revenue_df = df[pd.notnull(df['revenue_eur'])]\n",
    "    #return revenue_df[revenue_df.partner_event == revenue_event]\n",
    "    return df\n",
    "    \n",
    "    "
   ]
  },
  {
   "cell_type": "markdown",
   "metadata": {
    "colab_type": "text",
    "id": "ph6eaF4Ny1Ad"
   },
   "source": [
    "`merge` joins the marked users with the revenue events and excludes any revenue event that happend before the user was marked."
   ]
  },
  {
   "cell_type": "code",
   "execution_count": null,
   "metadata": {
    "colab": {},
    "colab_type": "code",
    "id": "3mReofc4y1Ad"
   },
   "outputs": [],
   "source": [
    "def merge(mark_df, revenue_df):\n",
    "    merged_df = pd.merge(revenue_df, mark_df, on='user_id')\n",
    "    \n",
    "    return merged_df[merged_df.ts_x > merged_df.ts_y]"
   ]
  },
  {
   "cell_type": "markdown",
   "metadata": {
    "colab_type": "text",
    "id": "armi-3kmy1Ag"
   },
   "source": [
    "## Calculate uplift KPIs\n",
    "\n",
    "We calculate the incremental revenue and the iROAS in line with the [remerge whitepaper](https://drive.google.com/file/d/1PTJ93Cpjw1BeiVns8dTcs2zDDWmmjpdc/view). Afterwards we run a [chi squared test](https://en.wikipedia.org/wiki/Chi-squared_test) on the results to test for significance of the results, comparing conversion to per group uniques."
   ]
  },
  {
   "cell_type": "code",
   "execution_count": null,
   "metadata": {
    "colab": {},
    "colab_type": "code",
    "id": "V1vKf_u5y1Ag"
   },
   "outputs": [],
   "source": [
    "def uplift(ad_spend, mark_df, revenue_df, index_name, m_hypothesis=1):\n",
    "    # group marked users by their ab_test_group\n",
    "    grouped = mark_df.groupby(by='ab_test_group')\n",
    "    test_df = None\n",
    "    control_df = None\n",
    "    \n",
    "    # we might not have any marks for a certain group\n",
    "    if 'test' in grouped.groups:\n",
    "        test_df = grouped.get_group('test')\n",
    "    else:\n",
    "        print(\"WARNING: No users marked as test for \", index_name, 'skipping.. ')\n",
    "        return None\n",
    "\n",
    "    if 'control' in grouped.groups:\n",
    "        control_df = grouped.get_group('control')\n",
    "    else:\n",
    "        print(\"WARNING: No users marked as control for \", index_name, 'skipping.. ')\n",
    "        return None\n",
    "\n",
    "    # join marks and revenue events\n",
    "    merged_df = merge(mark_df, revenue_df)\n",
    "    grouped_revenue = merged_df.groupby(by='ab_test_group_y')\n",
    "\n",
    "    # init all KPIs with 0s first:\n",
    "    test_revenue_micros = 0\n",
    "    test_conversions = 0\n",
    "    test_converters = 0\n",
    "\n",
    "    control_revenue_micros = 0\n",
    "    control_conversions = 0\n",
    "    control_converters = 0\n",
    "\n",
    "    # we might not have any events for a certain group in the time-period,\n",
    "    if 'test' in grouped_revenue.groups:\n",
    "        test_revenue_df = grouped_revenue.get_group('test')\n",
    "        test_revenue_micros = test_revenue_df['revenue_eur'].sum()\n",
    "        test_conversions = test_revenue_df['partner_event'].count()\n",
    "        test_converters = test_revenue_df['user_id'].nunique()\n",
    "\n",
    "    if 'control' in grouped_revenue.groups:\n",
    "        control_revenue_df = grouped_revenue.get_group('control')\n",
    "        control_revenue_micros = control_revenue_df['revenue_eur'].sum()\n",
    "        control_conversions = control_revenue_df['partner_event'].count()\n",
    "        control_converters = control_revenue_df['user_id'].nunique()\n",
    "\n",
    "    # calculate KPIs\n",
    "    test_group_size = test_df['user_id'].nunique()\n",
    "    test_revenue = test_revenue_micros / 10 ** 6\n",
    "    control_group_size = control_df['user_id'].nunique()\n",
    "    control_revenue = control_revenue_micros / 10 ** 6\n",
    "\n",
    "    ratio = float(test_group_size) / float(control_group_size)\n",
    "    scaled_control_conversions = float(control_conversions) * ratio\n",
    "    scaled_control_revenue_micros = float(control_revenue_micros) * ratio\n",
    "    incremental_conversions = test_conversions - scaled_control_conversions\n",
    "    incremental_revenue_micros = test_revenue_micros - scaled_control_revenue_micros\n",
    "    incremental_revenue = incremental_revenue_micros / 10 ** 6\n",
    "    incremental_converters = test_converters - control_converters * ratio\n",
    "    \n",
    "    iroas = incremental_revenue / ad_spend\n",
    "    icpa = ad_spend / incremental_conversions\n",
    "    cost_per_incremental_converter = ad_spend / incremental_converters\n",
    "    \n",
    "    rev_per_conversion_test = 0\n",
    "    rev_per_conversion_control = 0\n",
    "    if test_conversions > 0:\n",
    "        rev_per_conversion_test = test_revenue / test_conversions\n",
    "    if control_conversions > 0:\n",
    "        rev_per_conversion_control = control_revenue / control_conversions\n",
    "\n",
    "    test_cvr = test_conversions / test_group_size\n",
    "    control_cvr = control_conversions / control_group_size\n",
    "\n",
    "    uplift = 0\n",
    "    if control_cvr > 0:\n",
    "        uplift = test_cvr / control_cvr - 1\n",
    "\n",
    "    control_successes, test_successes = control_conversions, test_conversions\n",
    "    if use_converters_for_significance or max(test_cvr, control_cvr) > 1.0:\n",
    "        control_successes, test_successes = control_converters, test_converters\n",
    "    chi_df = pd.DataFrame({\n",
    "        \"conversions\": [control_successes, test_successes],\n",
    "        \"total\": [control_group_size, test_group_size]\n",
    "    }, index=['control', 'test'])\n",
    "    # CHI square calculation will fail with insufficient data\n",
    "    # Fallback to no significance\n",
    "    try:\n",
    "        chi, p, *_ = scipy.stats.chi2_contingency(\n",
    "            pd.concat([chi_df.total - chi_df.conversions, chi_df.conversions], axis=1), correction=False)\n",
    "    except:\n",
    "        chi, p = 0, 1.0\n",
    "        \n",
    "    # bonferroni correction with equal weights - if we have multiple hypothesis:\n",
    "    # https://en.wikipedia.org/wiki/Bonferroni_correction\n",
    "    significant = p < (0.05 / m_hypothesis)\n",
    "\n",
    "    dataframe_dict = {\n",
    "        \"ad spend\": ad_spend,\n",
    "        \"total revenue\": test_revenue + control_revenue,\n",
    "        \"test group size\": test_group_size,\n",
    "        \"test conversions\": test_conversions,\n",
    "        \"test converters\": test_converters,\n",
    "        \"test revenue\": test_revenue,\n",
    "        \"control group size\": control_group_size,\n",
    "        \"control conversions\": control_conversions,\n",
    "        \"control_converters\": control_converters,\n",
    "        \"control revenue\": control_revenue,\n",
    "        \"ratio test/control\": ratio,\n",
    "        \"control conversions (scaled)\": scaled_control_conversions,\n",
    "        \"control revenue (scaled)\": scaled_control_revenue_micros / 10 ** 6,\n",
    "        \"incremental conversions\": incremental_conversions,\n",
    "        \"incremental converters\": incremental_converters,\n",
    "        \"incremental revenue\": incremental_revenue,\n",
    "        \"rev/conversions test\": rev_per_conversion_test,\n",
    "        \"rev/conversions control\": rev_per_conversion_control,\n",
    "        \"test CVR\": test_cvr,\n",
    "        \"control CVR\": control_cvr,\n",
    "        \"CVR Uplift\": uplift,\n",
    "        \"iROAS\": iroas,\n",
    "        \"cost per incr. converter\": cost_per_incremental_converter,\n",
    "        \"iCPA\": icpa,\n",
    "        \"chi^2\": chi,\n",
    "        \"p-value\": p,\n",
    "        \"significant\": significant\n",
    "    }\n",
    "\n",
    "    # show results as a dataframe\n",
    "    return pd.DataFrame(\n",
    "        dataframe_dict,\n",
    "        index=[index_name],\n",
    "    ).transpose()"
   ]
  },
  {
   "cell_type": "markdown",
   "metadata": {
    "colab_type": "text",
    "id": "tKdBRvkxL8Aa"
   },
   "source": [
    "### Calculate and display uplift report for the data set as a whole\n",
    "\n",
    "This takes the whole data set and calculates uplift KPIs."
   ]
  },
  {
   "cell_type": "code",
   "execution_count": null,
   "metadata": {
    "colab": {},
    "colab_type": "code",
    "id": "2y91jjPVy1Ai"
   },
   "outputs": [],
   "source": [
    "# calculate the total result:\n",
    "revenue_df = revenue(attributions_df)\n",
    "\n",
    "mark_df = marked(bids_df)\n",
    "ad_spend_bids = ad_spend(bids_df)\n",
    "\n",
    "results_df = uplift(ad_spend_bids, mark_df, revenue_df, \"total\")"
   ]
  },
  {
   "cell_type": "markdown",
   "metadata": {
    "colab_type": "text",
    "id": "Lcw0S2p2MHwu"
   },
   "source": [
    "### Calculate uplift report per group (if configured)\n",
    "\n",
    "Sometimes it makes sense to look at groups of similar campaigns. If the `groups`  dictionary contains group names as keys and a list of campaign ids as values per key, this function will compile a per group report. "
   ]
  },
  {
   "cell_type": "code",
   "execution_count": null,
   "metadata": {
    "colab": {},
    "colab_type": "code",
    "id": "w-OaxnWLGXTZ"
   },
   "outputs": [],
   "source": [
    "# if there are groups filter the events against the per campaign groups and generate report\n",
    "if len(groups) > 0:\n",
    "    per_group_df = None\n",
    "    for name, campaigns in groups.items():\n",
    "        group_marks_df = bids_df[bids_df.campaign_id.isin(campaigns)]\n",
    "        results_df[name] = uplift(ad_spend(group_marks_df), marked(group_marks_df), revenue_df, name, len(groups))"
   ]
  },
  {
   "cell_type": "markdown",
   "metadata": {
    "colab_type": "text",
    "id": "cbZZDsqcMPrI"
   },
   "source": [
    "### Calculate uplift report per campaign\n",
    "\n",
    "Sometimes it makes sense to look at the uplift report per campaign. Each campaign usually reflects one segement of users. To do that we iterate over all campaigns in the current dataset."
   ]
  },
  {
   "cell_type": "code",
   "execution_count": null,
   "metadata": {
    "colab": {},
    "colab_type": "code",
    "id": "bOfbElnCEHhP"
   },
   "outputs": [],
   "source": [
    "if per_campaign_results:\n",
    "    campaigns = bids_df['campaign_name'].unique()\n",
    "    for campaign in campaigns:\n",
    "        name = \"c_{0}\".format(campaign)\n",
    "        df = bids_df[bids_df.campaign_name == campaign]\n",
    "        results_df[name] = uplift(ad_spend(df), marked(df), revenue_df, name, len(campaigns))"
   ]
  },
  {
   "cell_type": "markdown",
   "metadata": {
    "colab_type": "text",
    "id": "SdFSmL3u8Pe4"
   },
   "source": [
    "# Uplift Results\n",
    "\n",
    "You can configure the ouput by using variables in the 'Configuration' section"
   ]
  },
  {
   "cell_type": "code",
   "execution_count": null,
   "metadata": {
    "colab": {},
    "colab_type": "code",
    "id": "GWQXKYXB8YO2"
   },
   "outputs": [],
   "source": [
    "# set formatting options\n",
    "pd.set_option('display.float_format', '{:.5f}'.format)\n",
    "\n",
    "results_df"
   ]
  },
  {
   "cell_type": "markdown",
   "metadata": {},
   "source": [
    "# Bayesian A/B Testing"
   ]
  },
  {
   "cell_type": "code",
   "execution_count": null,
   "metadata": {},
   "outputs": [],
   "source": [
    "if run_bayesian_analysis:\n",
    "    # install pymc3 library\n",
    "    !pip install pymc3\n",
    "    \n",
    "    # make plots visible in the notebook\n",
    "    %matplotlib inline\n",
    "\n",
    "    # load libraries\n",
    "    import pymc3 as pm\n",
    "    import numpy as np\n",
    "    import seaborn as sns\n",
    "    import matplotlib.pyplot as plt"
   ]
  },
  {
   "cell_type": "markdown",
   "metadata": {},
   "source": [
    "### Prepare dataframes for further analysis"
   ]
  },
  {
   "cell_type": "code",
   "execution_count": null,
   "metadata": {},
   "outputs": [],
   "source": [
    "def ab_test_prepare(mark_df, revenue_df):\n",
    "    mark_df = mark_df.dropna(axis=0, subset=['user_id'])\n",
    "    revenue_df = revenue_df[revenue_df.user_id.isin(mark_df.user_id)]\n",
    "    \n",
    "    merge_df = pd.merge(mark_df.drop(['event_type', 'cost_currency', 'cost', 'cost_eur'], axis=1),\n",
    "                        revenue_df.drop(['ab_test_group'], axis=1), on='user_id', how='left')\n",
    "  \n",
    "    # excludes any revenue event that happend before the user was marked\n",
    "    merge_df = merge_df[merge_df.ts_x < merge_df.ts_y]\n",
    "    merge_df.drop(['ts_y', 'ts_x'], axis=1, inplace=True)\n",
    "\n",
    "    # add users don't have any envets  \n",
    "    merge_df = merge_df.append(mark_df[~mark_df.user_id.isin(merge_df.user_id)][['ab_test_group', 'user_id', 'campaign_id', 'campaign_name']], sort=False)\n",
    "  \n",
    "    # change currecy scale\n",
    "    merge_df['revenue_eur'] /= 10 ** 6\n",
    "  \n",
    "    user_df = merge_df.groupby('user_id').agg({'ab_test_group':'first', 'campaign_id':'first', \n",
    "                                               'campaign_name':'first', 'partner_event':'count', \n",
    "                                               'revenue_eur':sum})\n",
    "    user_df.columns=['ab_test_group', 'campaign_id', 'campaign_name', 'n_conversions', 'sum_revenue']\n",
    "    user_df['converter'] = user_df.n_conversions > 0\n",
    "    \n",
    "    return merge_df, user_df"
   ]
  },
  {
   "cell_type": "markdown",
   "metadata": {},
   "source": [
    "The produced dataframe `ab_df` is per record data, and `ab_users_df` is per user data (i.e. aggregated conversions and revenue)"
   ]
  },
  {
   "cell_type": "code",
   "execution_count": null,
   "metadata": {},
   "outputs": [],
   "source": [
    "# output dataframes\n",
    "ab_df, ab_users_df = ab_test_prepare(mark_df, revenue_df)\n",
    "\n",
    "# per user records \n",
    "ab_group = ab_users_df.groupby('ab_test_group')\n",
    "\n",
    "# per converters records\n",
    "ab_converter_group = ab_users_df[ab_users_df.converter].groupby('ab_test_group')\n",
    "\n",
    "# per non-null revenue conversion record (non-aggregated revenue)\n",
    "ab_conversion_group = ab_df[ab_df.revenue_eur.notnull()].groupby('ab_test_group')"
   ]
  },
  {
   "cell_type": "markdown",
   "metadata": {},
   "source": [
    "### Perform uplift simulation"
   ]
  },
  {
   "cell_type": "code",
   "execution_count": 1,
   "metadata": {},
   "outputs": [],
   "source": [
    "def uplift_model(ab_df, ab_users_df, ab_group, alpha_prior=1, \n",
    "                 beta_prior=1, num_samples=5000, num_iterations=1000):\n",
    "    #https://stats.stackexchange.com/questions/231278/bayesian-a-b-testing-a-continuous-value-not-a-success-rate\n",
    "    \n",
    "    with pm.Model() as model:\n",
    "        # A - control group\n",
    "        # B - test group\n",
    "\n",
    "        # number of users and converters\n",
    "        n_users = ab_users_df.shape[0]\n",
    "        n_converters = ab_users_df.converter.sum()\n",
    "\n",
    "        # conversion / revenue statistics\n",
    "        mean_conversion = ab_users_df[ab_users_df.converter].n_conversions.mean()\n",
    "        std_conversion = ab_users_df[ab_users_df.converter].n_conversions.std()\n",
    "        \n",
    "        mean_log_revenue = np.mean(np.log(ab_df[ab_df.revenue_eur.notnull()].revenue_eur))\n",
    "        std_log_revenue = np.std(np.log(ab_df[ab_df.revenue_eur.notnull()].revenue_eur))\n",
    "\n",
    "        # converter\n",
    "        p_converted_A = pm.Beta('p_converted_A',\n",
    "                                alpha=alpha_prior + n_converters, \n",
    "                                beta=beta_prior + n_users - n_converters)\n",
    "        p_converted_B = pm.Beta('p_converted_B', \n",
    "                                alpha=alpha_prior + n_converters, \n",
    "                                beta=beta_prior + n_users - n_converters)\n",
    "\n",
    "        obs_converted_A = pm.Bernoulli('obs_converted_A', \n",
    "                                       p=p_converted_A,\n",
    "                                       observed=ab_group.get_group('control')['converter'])\n",
    "        obs_converted_B = pm.Bernoulli('obs_converted_B',\n",
    "                                       p=p_converted_B,\n",
    "                                       observed=ab_group.get_group('test')['converter'])\n",
    "\n",
    "        diff_converter = pm.Deterministic('diff_converter', p_converted_B - p_converted_A)\n",
    "\n",
    "\n",
    "        # conversions\n",
    "        mean_conversion_A = pm.Normal('mean_conversion_A', mean_conversion, std_conversion * 2)\n",
    "        mean_conversion_B = pm.Normal('mean_conversion_B', mean_conversion, std_conversion * 2)\n",
    "\n",
    "        obs_conversion_A = pm.Geometric('obs_conversion_A', 1 / mean_conversion_A,\n",
    "                                        observed=ab_converter_group.get_group('control')['n_conversions'])    \n",
    "        obs_conversion_B = pm.Geometric('obs_conversion_B', 1 / mean_conversion_B,\n",
    "                                        observed=ab_converter_group.get_group('test')['n_conversions'])    \n",
    "\n",
    "        diff_conversion = pm.Deterministic('diff_conversion', mean_conversion_B - mean_conversion_A)\n",
    "\n",
    "        # revenue\n",
    "        mean_log_revenue_A = pm.Lognormal('mean_log_revenue_A', mean_log_revenue, std_log_revenue * 2)\n",
    "        mean_log_revenue_B = pm.Lognormal('mean_log_revenue_B', mean_log_revenue, std_log_revenue * 2)\n",
    "\n",
    "        # observation for revenue\n",
    "        obs_revenue_A = pm.SkewNormal('obs_revenue_A', mean_log_revenue_A,\n",
    "                                      observed=np.log(ab_conversion_group.get_group('control')['revenue_eur']))\n",
    "        obs_revenue_B = pm.SkewNormal('obs_revenue_B', mean_log_revenue_B,\n",
    "                                      observed=np.log(ab_conversion_group.get_group('test')['revenue_eur']))\n",
    "        diff_logrevenue = pm.Deterministic('diff_logrevenue', mean_log_revenue_B - mean_log_revenue_A)\n",
    "\n",
    "        # expected income\n",
    "        expected_rev_A = pm.Deterministic('expected_rev_A', p_converted_A * mean_conversion_A * pm.math.exp(mean_log_revenue_A))\n",
    "        expected_rev_B = pm.Deterministic('expected_rev_B', p_converted_B * mean_conversion_B * pm.math.exp(mean_log_revenue_B))\n",
    "        diff_expected_rev = pm.Deterministic('diff_expected_rev', expected_rev_B - expected_rev_A)\n",
    "\n",
    "        # inference\n",
    "        trace = pm.sample(num_samples, tune=num_iterations, progressbar=True)\n",
    "\n",
    "        return trace"
   ]
  },
  {
   "cell_type": "code",
   "execution_count": null,
   "metadata": {},
   "outputs": [],
   "source": [
    "trace = uplift_model(ab_df, ab_users_df, ab_group)"
   ]
  },
  {
   "cell_type": "markdown",
   "metadata": {},
   "source": [
    "### Visualize results of simulation"
   ]
  },
  {
   "cell_type": "code",
   "execution_count": 2,
   "metadata": {},
   "outputs": [],
   "source": [
    "def plot_distribution_charts(ax, trace, params):\n",
    "    # plot distribution\n",
    "    sns.distplot(trace[params[1]], ax=ax[0], hist=False, label='Control', color='indianred')\n",
    "    sns.distplot(trace[params[2]], ax=ax[0], hist=False, label='Test', color='teal')\n",
    "\n",
    "    # estimate mean values\n",
    "    mean_A = pm.summary(trace, varnames=[params[1]])['mean'].iloc[0]\n",
    "    mean_B = pm.summary(trace, varnames=[params[2]])['mean'].iloc[0]\n",
    "\n",
    "    # draw vertical lines at each mean value\n",
    "    ax[0].axvline(mean_A, 0, 1, color='indianred', linestyle=':')\n",
    "    ax[0].axvline(mean_B, 0, 1, color='teal', linestyle=':')\n",
    "    \n",
    "    # add annotations\n",
    "    ax[0].annotate(r'$\\mu C:{0:.3}$'.format(mean_A), xy=(0.82, 0.67), xycoords='axes fraction', fontsize='small', color='indianred')\n",
    "    ax[0].annotate(r'$\\mu T:{0:.3}$'.format(mean_B), xy=(0.82, 0.57), xycoords='axes fraction', fontsize='small', color='teal')\n",
    "    \n",
    "    ax[0].set_title(params[0])\n",
    "    \n",
    "    # plot distribution\n",
    "    sns.distplot(trace[params[4]], ax=ax[1], hist=False, color='grey')\n",
    "    \n",
    "    # draw partial fill\n",
    "    line = ax[1].get_lines()[-1]\n",
    "    x, y = line.get_data()\n",
    "    mask = x > 0\n",
    "    x, y = x[mask], y[mask]\n",
    "    ax[1].fill_between(x, y1=y, alpha=0.5, facecolor='silver')\n",
    "    \n",
    "    # estimate mean values and add annotations\n",
    "    mean_diff = pm.summary(trace, varnames=[params[4]])['mean'].iloc[0]\n",
    "    p_uplift = np.mean(trace[params[4]]>0)\n",
    "    \n",
    "    ax[1].annotate(r'$\\mu Diff:{0:.3}$'.format(mean_diff), xy=(0.7, 0.9), xycoords='axes fraction', fontsize='small', color='grey')\n",
    "    ax[1].annotate(r'$P(\\mu T > \\mu C):{0:.3}$'.format(p_uplift), xy=(0.7, 0.8), xycoords='axes fraction', fontsize='small', color='grey')\n",
    "    \n",
    "    ax[1].set_title(params[3])"
   ]
  },
  {
   "cell_type": "code",
   "execution_count": 3,
   "metadata": {},
   "outputs": [],
   "source": [
    "# define the parameters for plots\n",
    "plot_params = [\n",
    "    ('Mean Probability of Begin Converted', 'p_converted_A', 'p_converted_B', 'Difference of Means', 'diff_converter'),\n",
    "    ('Mean Conversion per Converter', 'mean_conversion_A', 'mean_conversion_B', 'Difference of Means', 'diff_conversion'),\n",
    "    ('Mean LogRevenue per Conversion', 'mean_log_revenue_A', 'mean_log_revenue_B', 'Difference of Means', 'diff_logrevenue'),\n",
    "    ('Expected Revenue per User', 'expected_rev_A', 'expected_rev_B', 'Difference of Expected Revenue', 'diff_expected_rev'),\n",
    "]"
   ]
  },
  {
   "cell_type": "code",
   "execution_count": null,
   "metadata": {},
   "outputs": [],
   "source": [
    "# setup configurations for visualization\n",
    "sns.set(font_scale=1.0)\n",
    "sns.despine(left=True)\n",
    "fig, axes = plt.subplots(4, 2, figsize=(12, 12), sharex=False)\n",
    "\n",
    "for ax, param in zip(axes, plot_params):\n",
    "    plot_distribution_charts(ax, trace, param)\n",
    "\n",
    "# format layout of charts\n",
    "plt.tight_layout()\n",
    "plt.show()"
   ]
  },
  {
   "cell_type": "markdown",
   "metadata": {},
   "source": [
    "### Uplift simulation results"
   ]
  },
  {
   "cell_type": "code",
   "execution_count": null,
   "metadata": {},
   "outputs": [],
   "source": [
    "def uplift_simulation_results(ad_spend_bids, ab_group, trace):\n",
    "    n_users = ab_group.get_group('test').shape[0]\n",
    "    user_uplift = np.mean(trace['diff_expected_rev'])\n",
    "    total_uplift = user_uplift * n_users\n",
    "    iroas = total_uplift / ad_spend_bids\n",
    "\n",
    "    return pd.Series({\n",
    "        'Total Ad Spend': ad_spend_bids,\n",
    "        'Test Group Users': n_users,\n",
    "        'Pre User Rev Uplift': user_uplift,\n",
    "        'Total Rev Uplift': total_uplift,\n",
    "        'Incremental ROAS': iroas,\n",
    "    }, name='value').to_frame()"
   ]
  },
  {
   "cell_type": "code",
   "execution_count": null,
   "metadata": {},
   "outputs": [],
   "source": [
    "uplift_simulation_results(ad_spend_bids, ab_group, trace)"
   ]
  },
  {
   "cell_type": "code",
   "execution_count": null,
   "metadata": {},
   "outputs": [],
   "source": []
  }
 ],
 "metadata": {
  "colab": {
   "collapsed_sections": [
    "eSixTLyiy0_A"
   ],
   "include_colab_link": true,
   "name": "uplift_report.ipynb",
   "provenance": [],
   "version": "0.3.2"
  },
  "kernelspec": {
   "display_name": "Python [conda env:uplift]",
   "language": "python",
   "name": "conda-env-uplift-py"
  },
  "language_info": {
   "codemirror_mode": {
    "name": "ipython",
    "version": 3
   },
   "file_extension": ".py",
   "mimetype": "text/x-python",
   "name": "python",
   "nbconvert_exporter": "python",
   "pygments_lexer": "ipython3",
   "version": "3.6.8"
  }
 },
 "nbformat": 4,
 "nbformat_minor": 2
}

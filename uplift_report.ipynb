{
  "nbformat": 4,
  "nbformat_minor": 0,
  "metadata": {
    "colab": {
      "name": "uplift_report.ipynb",
      "version": "0.3.2",
      "provenance": [],
      "collapsed_sections": [],
      "toc_visible": true,
      "include_colab_link": true
    },
    "kernelspec": {
      "name": "python3",
      "display_name": "Python 3"
    }
  },
  "cells": [
    {
      "cell_type": "markdown",
      "metadata": {
        "id": "view-in-github",
        "colab_type": "text"
      },
      "source": [
        "<a href=\"https://colab.research.google.com/github/remerge/uplift-report/blob/internal/uplift_report.ipynb\" target=\"_parent\"><img src=\"https://colab.research.google.com/assets/colab-badge.svg\" alt=\"Open In Colab\"/></a>"
      ]
    },
    {
      "cell_type": "markdown",
      "metadata": {
        "colab_type": "text",
        "id": "5mOAgeTNy0-o"
      },
      "source": [
        "# Remerge uplift report\n",
        "\n",
        "This notebook allows you to validate remerge provided uplift reporting numbers. To do so it downloads and analyses exported campaign and event data from S3. The campaign data contains all users that remerge marked to be part of an uplift test, the A/B group assignment, the timestamp of marking, conversion events (click, app open or similar) and their cost. The event data reflects the app event stream and includes events, their timestamp and revenue (if any). We calculate the incremental revenue and the iROAS in line with the [remerge whitepaper](https://drive.google.com/file/d/1PTJ93Cpjw1BeiVns8dTcs2zDDWmmjpdc/view). \n",
        "\n",
        "**Hint**: This notebook can be run in any Jupyter instance with enough space/memory, as a [Google Colab notebook](#Google-Colab-version) or as a standalone Python script. If you are using a copy of this notebook running on Colab or locally you can find the original template on [GitHub: remerge/uplift-report](https://github.com/remerge/uplift-report/blob/internal/uplift_report_per_campaign.ipynb)\n",
        "\n",
        "### Notebook configuration\n",
        "\n",
        "For this notebook to work properly several variables in the [Configuration](#Configuration) section need to be be set: `customer`, `audience`, `\n",
        "revenue_event`, `dates` and the AWS credentials. All of these will be provided by your remerge account manager. "
      ]
    },
    {
      "cell_type": "code",
      "metadata": {
        "id": "0j6nnLGh5SUS",
        "colab_type": "code",
        "colab": {}
      },
      "source": [
        "# Import remerge uplift-report library\n",
        "import os\n",
        "\n",
        "# if we are in jupyter environment - we have cloned the repo already and `lib` is available\n",
        "# on Colab we need to clone the repo and enable the same loading path through a symlink\n",
        "if not os.path.exists('lib'):\n",
        "    !git clone --branch internal https://github.com/remerge/uplift-report.git\n",
        "    !ln -s uplift-report/lib\n",
        "    \n",
        "    !pip install lib/\n",
        "    \n",
        "    # Since we could have upgraded some dependencies, that require restart of the kernel (specifically `pandas`),\n",
        "    # it is safer to perform this restart now\n",
        "    os.kill(os.getpid(), 9)    "
      ],
      "execution_count": 0,
      "outputs": []
    },
    {
      "cell_type": "markdown",
      "metadata": {
        "colab_type": "text",
        "id": "kyYz6TCny0-q"
      },
      "source": [
        "## Import packages\n",
        "\n",
        "This notebook/script needs our Uplift Report helper library, as long as several other dependencies it brings with it\n"
      ]
    },
    {
      "cell_type": "markdown",
      "metadata": {
        "id": "y9hjp-yR6MsK",
        "colab_type": "text"
      },
      "source": [
        "## Load helpers"
      ]
    },
    {
      "cell_type": "code",
      "metadata": {
        "id": "jucQTKF86PaA",
        "colab_type": "code",
        "colab": {}
      },
      "source": [
        "import os\n",
        "import pandas as pd\n",
        "\n",
        "import lib.helpers as helpers\n",
        "\n",
        "from IPython.display import display  # so we can run this as script as well"
      ],
      "execution_count": 0,
      "outputs": []
    },
    {
      "cell_type": "markdown",
      "metadata": {
        "colab_type": "text",
        "id": "7Novl387nrno"
      },
      "source": [
        "## Version\n",
        "Version of the analysis script corresponding to the methodology version in the whitepaper (Major + Minor version represent the whitepaper version, revision represents changes and fixes of the uplift report script)."
      ]
    },
    {
      "cell_type": "code",
      "metadata": {
        "colab_type": "code",
        "id": "U2vm5Z9UoHe6",
        "colab": {}
      },
      "source": [
        "display(helpers.__version__)"
      ],
      "execution_count": 0,
      "outputs": []
    },
    {
      "cell_type": "markdown",
      "metadata": {
        "colab_type": "text",
        "id": "8u6Q76fCy0-u"
      },
      "source": [
        "## Configuration\n",
        "\n",
        "Set the customer name, audience and access credentials for the S3 bucket and path. Furthermore the event for which we want to evaluate the uplift needs to be set `revenue_event`."
      ]
    },
    {
      "cell_type": "code",
      "metadata": {
        "colab_type": "code",
        "id": "wFgBi4jvsVTn",
        "colab": {}
      },
      "source": [
        "# configure path and revenue event \n",
        "customer = ''\n",
        "audiences = ['']\n",
        "revenue_event = 'purchase'\n",
        "\n",
        "# date range for the report\n",
        "dates = pd.date_range(start='2019-01-01',end='2019-01-01')\n",
        "\n",
        "# AWS credentials\n",
        "os.environ[\"AWS_ACCESS_KEY_ID\"] = ''\n",
        "os.environ[\"AWS_SECRET_ACCESS_KEY\"] = ''\n",
        "\n",
        "# Configure the reporting output: \n",
        "\n",
        "# named groups that aggregate several campaigns\n",
        "groups = {}\n",
        "\n",
        "# show uplift results per campaign:\n",
        "per_campaign_results = False\n",
        "\n",
        "# base statistical calculations on unique converters instead of conversions\n",
        "use_converters_for_significance = False\n",
        "\n",
        "# enable deduplication heuristic for appsflyer\n",
        "use_deduplication = False"
      ],
      "execution_count": 0,
      "outputs": []
    },
    {
      "cell_type": "markdown",
      "metadata": {
        "colab_type": "text",
        "id": "eSixTLyiy0_A"
      },
      "source": [
        "## Load CSV data from S3\n",
        "\n",
        "Load mark, spend and event data from S3. \n",
        "\n",
        "### IMPORTANT\n",
        "\n",
        "**The event data is usually quite large (several GB) so this operation might take several minutes or hours to complete, depending on the size and connection.**"
      ]
    },
    {
      "cell_type": "code",
      "metadata": {
        "colab_type": "code",
        "id": "PjWaWZS-y0_B",
        "colab": {
          "base_uri": "https://localhost:8080/",
          "height": 452
        },
        "outputId": "ae0c0929-ebd6-4d22-f9db-423f06d63960"
      },
      "source": [
        "marks_and_spend_df = helpers.load_marks_and_spend_data(customer, audiences, dates)"
      ],
      "execution_count": 0,
      "outputs": [
        {
          "output_type": "stream",
          "text": [
            "2019-08-20 12:24:28.797241 start loading CSV for 1590_Shopee_TH_iOS marks_and_spend 2019-07-01 00:00:00\n",
            "2019-08-20 12:24:30.277685 finished loading CSV for 01.07.2019 took 0:00:01.480487\n",
            "2019-08-20 12:24:30.279101 caching local as parquet cache-v5.4.15/1590_Shopee_TH_iOS/marks_and_spend/20190701.parquet\n",
            "2019-08-20 12:24:30.290634 caching on S3 as parquet s3://remerge-customers/shopee/uplift_data/1590_Shopee_TH_iOS/marks_and_spend/cache-v5.4.15/20190701.parquet\n",
            "2019-08-20 12:24:31.283613 start loading CSV for 1590_Shopee_TH_iOS marks_and_spend 2019-07-02 00:00:00\n",
            "2019-08-20 12:24:32.754970 finished loading CSV for 02.07.2019 took 0:00:01.471391\n",
            "2019-08-20 12:24:32.756401 caching local as parquet cache-v5.4.15/1590_Shopee_TH_iOS/marks_and_spend/20190702.parquet\n",
            "2019-08-20 12:24:32.767365 caching on S3 as parquet s3://remerge-customers/shopee/uplift_data/1590_Shopee_TH_iOS/marks_and_spend/cache-v5.4.15/20190702.parquet\n",
            "2019-08-20 12:24:33.781141 start loading CSV for 1590_Shopee_TH_iOS marks_and_spend 2019-07-03 00:00:00\n",
            "2019-08-20 12:24:35.429884 finished loading CSV for 03.07.2019 took 0:00:01.648776\n",
            "2019-08-20 12:24:35.431294 caching local as parquet cache-v5.4.15/1590_Shopee_TH_iOS/marks_and_spend/20190703.parquet\n",
            "2019-08-20 12:24:35.442007 caching on S3 as parquet s3://remerge-customers/shopee/uplift_data/1590_Shopee_TH_iOS/marks_and_spend/cache-v5.4.15/20190703.parquet\n",
            "2019-08-20 12:24:36.865601 start loading CSV for 1590_Shopee_TH_iOS marks_and_spend 2019-07-04 00:00:00\n",
            "2019-08-20 12:24:38.358537 finished loading CSV for 04.07.2019 took 0:00:01.492971\n",
            "2019-08-20 12:24:38.358864 caching local as parquet cache-v5.4.15/1590_Shopee_TH_iOS/marks_and_spend/20190704.parquet\n",
            "2019-08-20 12:24:38.370965 caching on S3 as parquet s3://remerge-customers/shopee/uplift_data/1590_Shopee_TH_iOS/marks_and_spend/cache-v5.4.15/20190704.parquet\n",
            "2019-08-20 12:24:39.349578 start loading CSV for 1590_Shopee_TH_iOS marks_and_spend 2019-07-05 00:00:00\n",
            "2019-08-20 12:24:40.898519 finished loading CSV for 05.07.2019 took 0:00:01.548982\n",
            "2019-08-20 12:24:40.899779 caching local as parquet cache-v5.4.15/1590_Shopee_TH_iOS/marks_and_spend/20190705.parquet\n",
            "2019-08-20 12:24:40.911343 caching on S3 as parquet s3://remerge-customers/shopee/uplift_data/1590_Shopee_TH_iOS/marks_and_spend/cache-v5.4.15/20190705.parquet\n",
            "2019-08-20 12:24:42.003734 start loading CSV for 1590_Shopee_TH_iOS marks_and_spend 2019-07-06 00:00:00\n",
            "2019-08-20 12:24:43.547385 finished loading CSV for 06.07.2019 took 0:00:01.543694\n",
            "2019-08-20 12:24:43.549181 caching local as parquet cache-v5.4.15/1590_Shopee_TH_iOS/marks_and_spend/20190706.parquet\n",
            "2019-08-20 12:24:43.560811 caching on S3 as parquet s3://remerge-customers/shopee/uplift_data/1590_Shopee_TH_iOS/marks_and_spend/cache-v5.4.15/20190706.parquet\n",
            "2019-08-20 12:24:44.743316 start loading CSV for 1590_Shopee_TH_iOS marks_and_spend 2019-07-07 00:00:00\n",
            "2019-08-20 12:24:46.883922 finished loading CSV for 07.07.2019 took 0:00:02.140646\n",
            "2019-08-20 12:24:46.885586 caching local as parquet cache-v5.4.15/1590_Shopee_TH_iOS/marks_and_spend/20190707.parquet\n",
            "2019-08-20 12:24:46.897917 caching on S3 as parquet s3://remerge-customers/shopee/uplift_data/1590_Shopee_TH_iOS/marks_and_spend/cache-v5.4.15/20190707.parquet\n",
            "2019-08-20 12:24:47.949039 start loading CSV for 1590_Shopee_TH_iOS marks_and_spend 2019-07-08 00:00:00\n",
            "2019-08-20 12:24:49.466156 finished loading CSV for 08.07.2019 took 0:00:01.517156\n",
            "2019-08-20 12:24:49.467849 caching local as parquet cache-v5.4.15/1590_Shopee_TH_iOS/marks_and_spend/20190708.parquet\n",
            "2019-08-20 12:24:49.479541 caching on S3 as parquet s3://remerge-customers/shopee/uplift_data/1590_Shopee_TH_iOS/marks_and_spend/cache-v5.4.15/20190708.parquet\n",
            "2019-08-20 12:24:50.384514 start loading CSV for 1590_Shopee_TH_iOS marks_and_spend 2019-07-09 00:00:00\n",
            "2019-08-20 12:24:51.887395 finished loading CSV for 09.07.2019 took 0:00:01.502947\n",
            "2019-08-20 12:24:51.888988 caching local as parquet cache-v5.4.15/1590_Shopee_TH_iOS/marks_and_spend/20190709.parquet\n",
            "2019-08-20 12:24:51.900383 caching on S3 as parquet s3://remerge-customers/shopee/uplift_data/1590_Shopee_TH_iOS/marks_and_spend/cache-v5.4.15/20190709.parquet\n",
            "2019-08-20 12:24:52.834468 start loading CSV for 1590_Shopee_TH_iOS marks_and_spend 2019-07-10 00:00:00\n",
            "2019-08-20 12:24:54.486210 finished loading CSV for 10.07.2019 took 0:00:01.651783\n",
            "2019-08-20 12:24:54.487749 caching local as parquet cache-v5.4.15/1590_Shopee_TH_iOS/marks_and_spend/20190710.parquet\n",
            "2019-08-20 12:24:54.498874 caching on S3 as parquet s3://remerge-customers/shopee/uplift_data/1590_Shopee_TH_iOS/marks_and_spend/cache-v5.4.15/20190710.parquet\n",
            "2019-08-20 12:24:55.405509 start loading CSV for 1590_Shopee_TH_iOS marks_and_spend 2019-07-11 00:00:00\n",
            "2019-08-20 12:24:56.955179 finished loading CSV for 11.07.2019 took 0:00:01.549708\n",
            "2019-08-20 12:24:56.956774 caching local as parquet cache-v5.4.15/1590_Shopee_TH_iOS/marks_and_spend/20190711.parquet\n",
            "2019-08-20 12:24:56.968038 caching on S3 as parquet s3://remerge-customers/shopee/uplift_data/1590_Shopee_TH_iOS/marks_and_spend/cache-v5.4.15/20190711.parquet\n",
            "2019-08-20 12:24:58.285192 start loading CSV for 1590_Shopee_TH_iOS marks_and_spend 2019-07-12 00:00:00\n",
            "2019-08-20 12:24:59.754024 finished loading CSV for 12.07.2019 took 0:00:01.468870\n",
            "2019-08-20 12:24:59.755585 caching local as parquet cache-v5.4.15/1590_Shopee_TH_iOS/marks_and_spend/20190712.parquet\n",
            "2019-08-20 12:24:59.767199 caching on S3 as parquet s3://remerge-customers/shopee/uplift_data/1590_Shopee_TH_iOS/marks_and_spend/cache-v5.4.15/20190712.parquet\n",
            "2019-08-20 12:25:00.710848 start loading CSV for 1590_Shopee_TH_iOS marks_and_spend 2019-07-13 00:00:00\n",
            "2019-08-20 12:25:02.275335 finished loading CSV for 13.07.2019 took 0:00:01.564520\n",
            "2019-08-20 12:25:02.276740 caching local as parquet cache-v5.4.15/1590_Shopee_TH_iOS/marks_and_spend/20190713.parquet\n",
            "2019-08-20 12:25:02.288993 caching on S3 as parquet s3://remerge-customers/shopee/uplift_data/1590_Shopee_TH_iOS/marks_and_spend/cache-v5.4.15/20190713.parquet\n",
            "2019-08-20 12:25:03.243678 start loading CSV for 1590_Shopee_TH_iOS marks_and_spend 2019-07-14 00:00:00\n",
            "2019-08-20 12:25:05.009207 finished loading CSV for 14.07.2019 took 0:00:01.765568\n",
            "2019-08-20 12:25:05.010814 caching local as parquet cache-v5.4.15/1590_Shopee_TH_iOS/marks_and_spend/20190714.parquet\n",
            "2019-08-20 12:25:05.021571 caching on S3 as parquet s3://remerge-customers/shopee/uplift_data/1590_Shopee_TH_iOS/marks_and_spend/cache-v5.4.15/20190714.parquet\n",
            "2019-08-20 12:25:06.124296 start loading CSV for 1590_Shopee_TH_iOS marks_and_spend 2019-07-15 00:00:00\n",
            "2019-08-20 12:25:07.721214 finished loading CSV for 15.07.2019 took 0:00:01.596961\n",
            "2019-08-20 12:25:07.722685 caching local as parquet cache-v5.4.15/1590_Shopee_TH_iOS/marks_and_spend/20190715.parquet\n",
            "2019-08-20 12:25:07.734516 caching on S3 as parquet s3://remerge-customers/shopee/uplift_data/1590_Shopee_TH_iOS/marks_and_spend/cache-v5.4.15/20190715.parquet\n",
            "2019-08-20 12:25:08.853689 start loading CSV for 1590_Shopee_TH_iOS marks_and_spend 2019-07-16 00:00:00\n",
            "2019-08-20 12:25:10.312864 finished loading CSV for 16.07.2019 took 0:00:01.459216\n",
            "2019-08-20 12:25:10.314376 caching local as parquet cache-v5.4.15/1590_Shopee_TH_iOS/marks_and_spend/20190716.parquet\n",
            "2019-08-20 12:25:10.325357 caching on S3 as parquet s3://remerge-customers/shopee/uplift_data/1590_Shopee_TH_iOS/marks_and_spend/cache-v5.4.15/20190716.parquet\n",
            "2019-08-20 12:25:11.642967 start loading CSV for 1590_Shopee_TH_iOS marks_and_spend 2019-07-17 00:00:00\n",
            "2019-08-20 12:25:13.125302 finished loading CSV for 17.07.2019 took 0:00:01.482385\n",
            "2019-08-20 12:25:13.127038 caching local as parquet cache-v5.4.15/1590_Shopee_TH_iOS/marks_and_spend/20190717.parquet\n",
            "2019-08-20 12:25:13.140173 caching on S3 as parquet s3://remerge-customers/shopee/uplift_data/1590_Shopee_TH_iOS/marks_and_spend/cache-v5.4.15/20190717.parquet\n",
            "2019-08-20 12:25:14.777978 start loading CSV for 1590_Shopee_TH_iOS marks_and_spend 2019-07-18 00:00:00\n",
            "2019-08-20 12:25:16.214195 finished loading CSV for 18.07.2019 took 0:00:01.436256\n",
            "2019-08-20 12:25:16.215826 caching local as parquet cache-v5.4.15/1590_Shopee_TH_iOS/marks_and_spend/20190718.parquet\n",
            "2019-08-20 12:25:16.227259 caching on S3 as parquet s3://remerge-customers/shopee/uplift_data/1590_Shopee_TH_iOS/marks_and_spend/cache-v5.4.15/20190718.parquet\n",
            "2019-08-20 12:25:17.192610 start loading CSV for 1590_Shopee_TH_iOS marks_and_spend 2019-07-19 00:00:00\n"
          ],
          "name": "stdout"
        }
      ]
    },
    {
      "cell_type": "code",
      "metadata": {
        "colab_type": "code",
        "id": "kFg_-_EW5TR1",
        "colab": {}
      },
      "source": [
        "attributions_df = helpers.load_attribution_data(customer, audiences, dates, revenue_event, marks_and_spend_df, use_deduplication)"
      ],
      "execution_count": 0,
      "outputs": []
    },
    {
      "cell_type": "markdown",
      "metadata": {
        "colab_type": "text",
        "id": "Ec_qFUaVy0_I"
      },
      "source": [
        "Print some statistics of the loaded data sets."
      ]
    },
    {
      "cell_type": "code",
      "metadata": {
        "colab_type": "code",
        "id": "N0Ih6SSuy0_J",
        "colab": {}
      },
      "source": [
        "marks_and_spend_df.info(memory_usage='deep')"
      ],
      "execution_count": 0,
      "outputs": []
    },
    {
      "cell_type": "code",
      "metadata": {
        "colab_type": "code",
        "id": "EoU_cW07y0_M",
        "colab": {}
      },
      "source": [
        "attributions_df.info(memory_usage='deep')"
      ],
      "execution_count": 0,
      "outputs": []
    },
    {
      "cell_type": "markdown",
      "metadata": {
        "colab_type": "text",
        "id": "tKdBRvkxL8Aa"
      },
      "source": [
        "### Calculate and display uplift report for the data set as a whole\n",
        "\n",
        "This takes the whole data set and calculates uplift KPIs."
      ]
    },
    {
      "cell_type": "code",
      "metadata": {
        "colab_type": "code",
        "id": "SjX4uu6tTpK2",
        "colab": {}
      },
      "source": [
        "report = helpers.uplift_report(marks_and_spend_df, attributions_df, groups, per_campaign_results, use_converters_for_significance)"
      ],
      "execution_count": 0,
      "outputs": []
    },
    {
      "cell_type": "markdown",
      "metadata": {
        "colab_type": "text",
        "id": "SdFSmL3u8Pe4"
      },
      "source": [
        "## Uplift Results\n",
        "\n",
        "You can configure the ouput by using variables in the 'Configuration' section"
      ]
    },
    {
      "cell_type": "code",
      "metadata": {
        "colab_type": "code",
        "id": "GWQXKYXB8YO2",
        "colab": {}
      },
      "source": [
        "# set formatting options\n",
        "pd.set_option('display.float_format', '{:.5f}'.format)"
      ],
      "execution_count": 0,
      "outputs": []
    },
    {
      "cell_type": "code",
      "metadata": {
        "colab_type": "code",
        "id": "S2UZOvmlaXqO",
        "colab": {}
      },
      "source": [
        "display(report)"
      ],
      "execution_count": 0,
      "outputs": []
    },
    {
      "cell_type": "markdown",
      "metadata": {
        "id": "FRk32179vh9G",
        "colab_type": "text"
      },
      "source": [
        "## Export to reports overview"
      ]
    },
    {
      "cell_type": "code",
      "metadata": {
        "id": "V1oxmptGvZtn",
        "colab_type": "code",
        "colab": {}
      },
      "source": [
        " helpers.export_to_overview(customer, audiences, dates, report)"
      ],
      "execution_count": 0,
      "outputs": []
    },
    {
      "cell_type": "markdown",
      "metadata": {
        "colab_type": "text",
        "id": "6VA_k2BobaZS"
      },
      "source": [
        "### CSV Export - combined reports"
      ]
    },
    {
      "cell_type": "code",
      "metadata": {
        "colab_type": "code",
        "id": "K-T6quwwbObO",
        "colab": {}
      },
      "source": [
        "start = dates[0]\n",
        "end = dates[-1]\n",
        "helpers.export_csv(report,'{}_{}-{}.csv'.format(customer, start, end))"
      ],
      "execution_count": 0,
      "outputs": []
    }
  ]
}
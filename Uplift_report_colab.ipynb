{
 "cells": [
  {
   "cell_type": "markdown",
   "metadata": {
    "colab_type": "text",
    "id": "view-in-github"
   },
   "source": [
    "<a href=\"https://colab.research.google.com/github/remerge/uplift-report/blob/master/Uplift_report_colab.ipynb\" target=\"_parent\"><img src=\"https://colab.research.google.com/assets/colab-badge.svg\" alt=\"Open In Colab\"/></a>"
   ]
  },
  {
   "cell_type": "markdown",
   "metadata": {
    "colab_type": "text",
    "id": "5mOAgeTNy0-o"
   },
   "source": [
    "# remerge uplift report\n",
    "\n",
    "This notebook allows you to validate remerge provided uplift reporting numbers. To do so it downloads and analyses exported campaign and event data from S3. The campaign data contains all users that remerge marked to be part of an uplift test, the A/B group assignment, the timestamp of marking, conversion events (click, app open or similar) and their cost. The event data reflects the app event stream and includes events, their timestamp and revenue (if any). We calculate the incremental revenue and the iROAS in line with the [remerge whitepaper](https://drive.google.com/file/d/1PTJ93Cpjw1BeiVns8dTcs2zDDWmmjpdc/view). \n",
    "\n",
    "**Hint**: This notebook can be run in any Jupyter instance with enough space/memory, as a [Google Colab notebook](#Google-Colab-version) or as a standalone Python script.\n",
    "\n",
    "### Notebook configuration\n",
    "\n",
    "For this notebook to work properly several variables in the [Configuration](#Configuration) section need to be be set: `customer`, `audience`, `\n",
    "revenue_event`, `dates` and the AWS credentials. All of these will be provided by your remerge account manager. \n",
    "\n",
    "\n",
    "### Verification\n",
    "\n",
    "To verify that the group split is random and has no bias, user events / attributes before the campaign start can be compared and checked for an equal distribution in test and control group. For example the user age distribution, the user activity distribution or the average spend per user  should be the same in both groups pre campaign.\n",
    "\n"
   ]
  },
  {
   "cell_type": "markdown",
   "metadata": {
    "colab_type": "text",
    "id": "kyYz6TCny0-q"
   },
   "source": [
    "## Import needed packages\n",
    "\n",
    "This notebook/script needs pandas and scipy for analysis and boto to access data store on S3.\n"
   ]
  },
  {
   "cell_type": "code",
   "execution_count": 0,
   "metadata": {
    "colab": {},
    "colab_type": "code",
    "id": "GWizAQT3y0-r"
   },
   "outputs": [],
   "source": [
    "from datetime import datetime\n",
    "import pandas as pd\n",
    "import boto3 # check if we need to import this\n",
    "import re\n",
    "import os\n",
    "import gzip\n",
    "import scipy\n",
    "import scipy.stats \n",
    "import s3fs\n",
    "from IPython.display import display # so we can run this as script as well\n",
    "import gc"
   ]
  },
  {
   "cell_type": "markdown",
   "metadata": {
    "colab_type": "text",
    "id": "8u6Q76fCy0-u"
   },
   "source": [
    "## Configuration\n",
    "\n",
    "Set the customer name, audience + access credentials for the S3 bucket and path. Furthermore the event for which we want to evaluate the uplift needs to be set `revenue_event`."
   ]
  },
  {
   "cell_type": "code",
   "execution_count": null,
   "metadata": {
    "colab": {},
    "colab_type": "code",
    "id": "aRd9FvoUy0-v"
   },
   "outputs": [],
   "source": [
    "# configure path and revenue event \n",
    "customer = \"\"\n",
    "audience = \"\"\n",
    "revenue_event = ''\n",
    "\n",
    "# date range for the report\n",
    "dates = pd.date_range(start='2019-02-14',end='2019-02-27')\n",
    "\n",
    "# AWS credentials\n",
    "os.environ[\"AWS_ACCESS_KEY_ID\"] = \"\"\n",
    "os.environ[\"AWS_SECRET_ACCESS_KEY\"] = \"\""
   ]
  },
  {
   "cell_type": "code",
   "execution_count": 0,
   "metadata": {
    "colab": {},
    "colab_type": "code",
    "id": "7vmb6w6vy0-4"
   },
   "outputs": [],
   "source": [
    "path = \"s3://remerge-customers/{0}/uplift_data/{1}/\".format(customer,audience)"
   ]
  },
  {
   "cell_type": "markdown",
   "metadata": {
    "colab_type": "text",
    "id": "lATaZ5cPUq6D"
   },
   "source": [
    "## Google Colab version\n",
    "\n",
    "This notebook can be run inside Google Colab. Due to size limitations it cointains several optimisations like removing unused fields from the input files. Furthermore it installs missing dependancies. "
   ]
  },
  {
   "cell_type": "code",
   "execution_count": 0,
   "metadata": {
    "colab": {},
    "colab_type": "code",
    "id": "Ofy_xkbefPBx"
   },
   "outputs": [],
   "source": [
    "try:\n",
    "  import google.colab\n",
    "  IN_COLAB = True\n",
    "except:\n",
    "  IN_COLAB = False"
   ]
  },
  {
   "cell_type": "code",
   "execution_count": 14,
   "metadata": {
    "colab": {
     "base_uri": "https://localhost:8080/",
     "height": 156
    },
    "colab_type": "code",
    "id": "zaQa8jYVVC6B",
    "outputId": "94bc78fa-4932-4c1a-e23e-6788b6e6e60b"
   },
   "outputs": [
    {
     "name": "stdout",
     "output_type": "stream",
     "text": [
      "Collecting pyarrow\n",
      "\u001b[?25l  Downloading https://files.pythonhosted.org/packages/13/37/eb9aefcd6a041dffb4db6729daea2a91a01a1bf9815e02a3d35281348a85/pyarrow-0.12.1-cp36-cp36m-manylinux1_x86_64.whl (12.4MB)\n",
      "\u001b[K    100% |████████████████████████████████| 12.4MB 2.4MB/s \n",
      "\u001b[?25hRequirement already satisfied: six>=1.0.0 in /usr/local/lib/python3.6/dist-packages (from pyarrow) (1.11.0)\n",
      "Requirement already satisfied: numpy>=1.14 in /usr/local/lib/python3.6/dist-packages (from pyarrow) (1.14.6)\n",
      "Installing collected packages: pyarrow\n",
      "Successfully installed pyarrow-0.12.1\n"
     ]
    }
   ],
   "source": [
    "!pip install pyarrow"
   ]
  },
  {
   "cell_type": "markdown",
   "metadata": {
    "colab_type": "text",
    "id": "7XnJeThPiSye"
   },
   "source": [
    "Define a few helper functions to load and cache data."
   ]
  },
  {
   "cell_type": "code",
   "execution_count": 0,
   "metadata": {
    "colab": {},
    "colab_type": "code",
    "id": "bdeQztnqy0--"
   },
   "outputs": [],
   "source": [
    "# helper to remove a few things we load if we run in Google Colab\n",
    "def limit_df(df,source):\n",
    "    if not IN_COLAB:\n",
    "      return df\n",
    "    if source != 'attributions':\n",
    "      return df\n",
    "    # we drop a few things so we fit into the Colab memory limit\n",
    "    df.drop(['event_id','event_data','partner','revenue','revenue_currency'], axis=1)\n",
    "    df = df[df.partner_event == revenue_event]\n",
    "    gc.collect()\n",
    "    return df\n",
    "    \n",
    "\n",
    "# helper to download CSV files, convert to DF and print time needed\n",
    "def read_csv(date,source):\n",
    "    now = datetime.now()\n",
    "    filename = path + source+'/'+date.strftime('%Y%m%d')+'.csv.gz'\n",
    "    cache_dir = 'cache/'+source\n",
    "    cache_filename = cache_dir + '/' + date.strftime('%Y%m%d')+'.parquet'\n",
    "    if os.path.exists(cache_filename):\n",
    "        print(now, 'loading from cache', cache_filename)\n",
    "        df = pd.read_parquet(cache_filename, engine='pyarrow')\n",
    "        df = limit_df(df,source)\n",
    "        return df\n",
    "    print(now, 'start loading CSV for', date)\n",
    "    df = pd.read_csv(filename, escapechar='\\\\')\n",
    "    df = limit_df(df,source)\n",
    "    print(datetime.now(), 'finished loading CSV for', date.strftime('%d.%m.%Y'), 'took', datetime.now()-now)\n",
    "    if not os.path.exists(cache_dir):\n",
    "        os.makedirs(cache_dir)\n",
    "    df.to_parquet(cache_filename, engine='pyarrow')\n",
    "    return df"
   ]
  },
  {
   "cell_type": "markdown",
   "metadata": {
    "colab_type": "text",
    "id": "eSixTLyiy0_A"
   },
   "source": [
    "## Load CSV data from S3\n",
    "\n",
    "Load mark,spend and event data from S3. \n",
    "## IMPORTANT\n",
    "**The event data is usually quite large (several GB) so this operation might take several minutes or hours to complete, depending on the size and connection.**"
   ]
  },
  {
   "cell_type": "code",
   "execution_count": 21,
   "metadata": {
    "colab": {
     "base_uri": "https://localhost:8080/",
     "height": 493
    },
    "colab_type": "code",
    "id": "PjWaWZS-y0_B",
    "outputId": "a734f8d3-fee3-4367-fb82-0a7fe3e011bd"
   },
   "outputs": [
    {
     "name": "stdout",
     "output_type": "stream",
     "text": [
      "2019-03-11 05:58:29.148660 start loading CSV for 2019-02-14 00:00:00\n",
      "2019-03-11 05:58:29.977807 finished loading CSV for 14.02.2019 took 0:00:00.829192\n",
      "2019-03-11 05:58:30.895246 start loading CSV for 2019-02-15 00:00:00\n",
      "2019-03-11 05:58:31.299727 finished loading CSV for 15.02.2019 took 0:00:00.404526\n",
      "2019-03-11 05:58:31.334564 start loading CSV for 2019-02-16 00:00:00\n",
      "2019-03-11 05:58:31.642716 finished loading CSV for 16.02.2019 took 0:00:00.308198\n",
      "2019-03-11 05:58:31.677315 start loading CSV for 2019-02-17 00:00:00\n",
      "2019-03-11 05:58:31.977579 finished loading CSV for 17.02.2019 took 0:00:00.300308\n",
      "2019-03-11 05:58:32.009796 start loading CSV for 2019-02-18 00:00:00\n",
      "2019-03-11 05:58:32.294722 finished loading CSV for 18.02.2019 took 0:00:00.284970\n",
      "2019-03-11 05:58:32.326743 start loading CSV for 2019-02-19 00:00:00\n",
      "2019-03-11 05:58:33.083196 finished loading CSV for 19.02.2019 took 0:00:00.756505\n",
      "2019-03-11 05:58:33.261170 start loading CSV for 2019-02-20 00:00:00\n",
      "2019-03-11 05:58:33.680629 finished loading CSV for 20.02.2019 took 0:00:00.419515\n",
      "2019-03-11 05:58:33.775502 start loading CSV for 2019-02-21 00:00:00\n",
      "2019-03-11 05:58:34.175289 finished loading CSV for 21.02.2019 took 0:00:00.399835\n",
      "2019-03-11 05:58:34.251058 start loading CSV for 2019-02-22 00:00:00\n",
      "2019-03-11 05:58:34.595471 finished loading CSV for 22.02.2019 took 0:00:00.344461\n",
      "2019-03-11 05:58:34.664957 start loading CSV for 2019-02-23 00:00:00\n",
      "2019-03-11 05:58:35.038990 finished loading CSV for 23.02.2019 took 0:00:00.374083\n",
      "2019-03-11 05:58:35.107156 start loading CSV for 2019-02-24 00:00:00\n",
      "2019-03-11 05:58:35.460985 finished loading CSV for 24.02.2019 took 0:00:00.353877\n",
      "2019-03-11 05:58:35.528816 start loading CSV for 2019-02-25 00:00:00\n",
      "2019-03-11 05:58:35.854447 finished loading CSV for 25.02.2019 took 0:00:00.325676\n",
      "2019-03-11 05:58:35.918651 start loading CSV for 2019-02-26 00:00:00\n",
      "2019-03-11 05:58:36.253038 finished loading CSV for 26.02.2019 took 0:00:00.334433\n",
      "2019-03-11 05:58:36.317031 start loading CSV for 2019-02-27 00:00:00\n",
      "2019-03-11 05:58:36.688377 finished loading CSV for 27.02.2019 took 0:00:00.371389\n"
     ]
    }
   ],
   "source": [
    "bid_df = pd.concat([read_csv(date,'marks_and_spend') for date in dates], ignore_index = True, verify_integrity=True)"
   ]
  },
  {
   "cell_type": "code",
   "execution_count": 22,
   "metadata": {
    "colab": {
     "base_uri": "https://localhost:8080/",
     "height": 493
    },
    "colab_type": "code",
    "id": "zxjJ4gK3y0_E",
    "outputId": "21a86420-96be-4266-9dd0-4627390eb22a"
   },
   "outputs": [
    {
     "name": "stdout",
     "output_type": "stream",
     "text": [
      "2019-03-11 05:58:48.958915 start loading CSV for 2019-02-14 00:00:00\n",
      "2019-03-11 06:01:04.953319 finished loading CSV for 14.02.2019 took 0:02:15.994477\n",
      "2019-03-11 06:01:05.357169 start loading CSV for 2019-02-15 00:00:00\n",
      "2019-03-11 06:02:37.010852 finished loading CSV for 15.02.2019 took 0:01:31.653758\n",
      "2019-03-11 06:02:37.374956 start loading CSV for 2019-02-16 00:00:00\n",
      "2019-03-11 06:04:11.052307 finished loading CSV for 16.02.2019 took 0:01:33.677421\n",
      "2019-03-11 06:04:11.401145 start loading CSV for 2019-02-17 00:00:00\n",
      "2019-03-11 06:05:46.334107 finished loading CSV for 17.02.2019 took 0:01:34.933037\n",
      "2019-03-11 06:05:46.690678 start loading CSV for 2019-02-18 00:00:00\n",
      "2019-03-11 06:08:04.983140 finished loading CSV for 18.02.2019 took 0:02:18.292532\n",
      "2019-03-11 06:08:05.418236 start loading CSV for 2019-02-19 00:00:00\n",
      "2019-03-11 06:09:46.524895 finished loading CSV for 19.02.2019 took 0:01:41.106730\n",
      "2019-03-11 06:09:46.943006 start loading CSV for 2019-02-20 00:00:00\n",
      "2019-03-11 06:11:25.968880 finished loading CSV for 20.02.2019 took 0:01:39.025948\n",
      "2019-03-11 06:11:26.353689 start loading CSV for 2019-02-21 00:00:00\n",
      "2019-03-11 06:13:07.333650 finished loading CSV for 21.02.2019 took 0:01:40.980035\n",
      "2019-03-11 06:13:07.740245 start loading CSV for 2019-02-22 00:00:00\n",
      "2019-03-11 06:15:04.138848 finished loading CSV for 22.02.2019 took 0:01:56.398680\n",
      "2019-03-11 06:15:04.527643 start loading CSV for 2019-02-23 00:00:00\n",
      "2019-03-11 06:16:46.484725 finished loading CSV for 23.02.2019 took 0:01:41.957152\n",
      "2019-03-11 06:16:46.836149 start loading CSV for 2019-02-24 00:00:00\n",
      "2019-03-11 06:20:51.467798 finished loading CSV for 24.02.2019 took 0:04:04.631723\n",
      "2019-03-11 06:20:51.830547 start loading CSV for 2019-02-25 00:00:00\n",
      "2019-03-11 06:22:37.378220 finished loading CSV for 25.02.2019 took 0:01:45.547775\n",
      "2019-03-11 06:22:37.793424 start loading CSV for 2019-02-26 00:00:00\n",
      "2019-03-11 06:24:19.300800 finished loading CSV for 26.02.2019 took 0:01:41.507452\n",
      "2019-03-11 06:24:19.691180 start loading CSV for 2019-02-27 00:00:00\n",
      "2019-03-11 06:25:57.825915 finished loading CSV for 27.02.2019 took 0:01:38.134824\n"
     ]
    }
   ],
   "source": [
    "attributions_df = pd.concat([read_csv(date,'attributions') for date in dates], ignore_index = True, verify_integrity=True)"
   ]
  },
  {
   "cell_type": "markdown",
   "metadata": {
    "colab_type": "text",
    "id": "Ec_qFUaVy0_I"
   },
   "source": [
    "Print some statistics of the loaded data sets."
   ]
  },
  {
   "cell_type": "code",
   "execution_count": 23,
   "metadata": {
    "colab": {
     "base_uri": "https://localhost:8080/",
     "height": 535
    },
    "colab_type": "code",
    "id": "N0Ih6SSuy0_J",
    "outputId": "d4715264-a0b2-4821-8a28-bfb70beb8d81"
   },
   "outputs": [
    {
     "name": "stdout",
     "output_type": "stream",
     "text": [
      "<class 'pandas.core.frame.DataFrame'>\n",
      "RangeIndex: 535434 entries, 0 to 535433\n",
      "Data columns (total 9 columns):\n",
      "ts               535434 non-null object\n",
      "event_type       535434 non-null object\n",
      "ab_test_group    535434 non-null object\n",
      "user_id          535422 non-null object\n",
      "campaign_id      535434 non-null int64\n",
      "cost_currency    25657 non-null object\n",
      "cost             25657 non-null float64\n",
      "cost_eur         25657 non-null float64\n",
      "campaign_name    535434 non-null object\n",
      "dtypes: float64(2), int64(1), object(6)\n",
      "memory usage: 36.8+ MB\n"
     ]
    },
    {
     "data": {
      "text/html": [
       "<div>\n",
       "<style scoped>\n",
       "    .dataframe tbody tr th:only-of-type {\n",
       "        vertical-align: middle;\n",
       "    }\n",
       "\n",
       "    .dataframe tbody tr th {\n",
       "        vertical-align: top;\n",
       "    }\n",
       "\n",
       "    .dataframe thead th {\n",
       "        text-align: right;\n",
       "    }\n",
       "</style>\n",
       "<table border=\"1\" class=\"dataframe\">\n",
       "  <thead>\n",
       "    <tr style=\"text-align: right;\">\n",
       "      <th></th>\n",
       "      <th>campaign_id</th>\n",
       "      <th>cost</th>\n",
       "      <th>cost_eur</th>\n",
       "    </tr>\n",
       "  </thead>\n",
       "  <tbody>\n",
       "    <tr>\n",
       "      <th>count</th>\n",
       "      <td>535434.000000</td>\n",
       "      <td>25657.000000</td>\n",
       "      <td>25657.000000</td>\n",
       "    </tr>\n",
       "    <tr>\n",
       "      <th>mean</th>\n",
       "      <td>16395.652484</td>\n",
       "      <td>302146.003040</td>\n",
       "      <td>266489.009003</td>\n",
       "    </tr>\n",
       "    <tr>\n",
       "      <th>std</th>\n",
       "      <td>395.048308</td>\n",
       "      <td>109310.857034</td>\n",
       "      <td>96107.466942</td>\n",
       "    </tr>\n",
       "    <tr>\n",
       "      <th>min</th>\n",
       "      <td>16171.000000</td>\n",
       "      <td>100000.000000</td>\n",
       "      <td>88062.000000</td>\n",
       "    </tr>\n",
       "    <tr>\n",
       "      <th>25%</th>\n",
       "      <td>16173.000000</td>\n",
       "      <td>220000.000000</td>\n",
       "      <td>194046.000000</td>\n",
       "    </tr>\n",
       "    <tr>\n",
       "      <th>50%</th>\n",
       "      <td>16175.000000</td>\n",
       "      <td>300000.000000</td>\n",
       "      <td>264673.000000</td>\n",
       "    </tr>\n",
       "    <tr>\n",
       "      <th>75%</th>\n",
       "      <td>16177.000000</td>\n",
       "      <td>360000.000000</td>\n",
       "      <td>317054.000000</td>\n",
       "    </tr>\n",
       "    <tr>\n",
       "      <th>max</th>\n",
       "      <td>17100.000000</td>\n",
       "      <td>660000.000000</td>\n",
       "      <td>581500.000000</td>\n",
       "    </tr>\n",
       "  </tbody>\n",
       "</table>\n",
       "</div>"
      ],
      "text/plain": [
       "         campaign_id           cost       cost_eur\n",
       "count  535434.000000   25657.000000   25657.000000\n",
       "mean    16395.652484  302146.003040  266489.009003\n",
       "std       395.048308  109310.857034   96107.466942\n",
       "min     16171.000000  100000.000000   88062.000000\n",
       "25%     16173.000000  220000.000000  194046.000000\n",
       "50%     16175.000000  300000.000000  264673.000000\n",
       "75%     16177.000000  360000.000000  317054.000000\n",
       "max     17100.000000  660000.000000  581500.000000"
      ]
     },
     "execution_count": 23,
     "metadata": {
      "tags": []
     },
     "output_type": "execute_result"
    }
   ],
   "source": [
    "bid_df.info()\n",
    "bid_df.describe()"
   ]
  },
  {
   "cell_type": "code",
   "execution_count": 24,
   "metadata": {
    "colab": {
     "base_uri": "https://localhost:8080/",
     "height": 552
    },
    "colab_type": "code",
    "id": "EoU_cW07y0_M",
    "outputId": "07e1cc70-ab5c-49cd-9a44-ab5b7201ffc6"
   },
   "outputs": [
    {
     "name": "stdout",
     "output_type": "stream",
     "text": [
      "<class 'pandas.core.frame.DataFrame'>\n",
      "RangeIndex: 771714 entries, 0 to 771713\n",
      "Data columns (total 10 columns):\n",
      "ts                  771714 non-null object\n",
      "user_id             771714 non-null object\n",
      "event_id            0 non-null float64\n",
      "partner             771714 non-null object\n",
      "partner_event       771714 non-null object\n",
      "revenue             768543 non-null float64\n",
      "revenue_currency    771714 non-null object\n",
      "revenue_eur         768543 non-null float64\n",
      "ab_test_group       38044 non-null object\n",
      "event_data          771714 non-null object\n",
      "dtypes: float64(3), object(7)\n",
      "memory usage: 58.9+ MB\n"
     ]
    },
    {
     "data": {
      "text/html": [
       "<div>\n",
       "<style scoped>\n",
       "    .dataframe tbody tr th:only-of-type {\n",
       "        vertical-align: middle;\n",
       "    }\n",
       "\n",
       "    .dataframe tbody tr th {\n",
       "        vertical-align: top;\n",
       "    }\n",
       "\n",
       "    .dataframe thead th {\n",
       "        text-align: right;\n",
       "    }\n",
       "</style>\n",
       "<table border=\"1\" class=\"dataframe\">\n",
       "  <thead>\n",
       "    <tr style=\"text-align: right;\">\n",
       "      <th></th>\n",
       "      <th>event_id</th>\n",
       "      <th>revenue</th>\n",
       "      <th>revenue_eur</th>\n",
       "    </tr>\n",
       "  </thead>\n",
       "  <tbody>\n",
       "    <tr>\n",
       "      <th>count</th>\n",
       "      <td>0.0</td>\n",
       "      <td>7.685430e+05</td>\n",
       "      <td>7.685430e+05</td>\n",
       "    </tr>\n",
       "    <tr>\n",
       "      <th>mean</th>\n",
       "      <td>NaN</td>\n",
       "      <td>2.793585e+08</td>\n",
       "      <td>2.424584e+08</td>\n",
       "    </tr>\n",
       "    <tr>\n",
       "      <th>std</th>\n",
       "      <td>NaN</td>\n",
       "      <td>3.674286e+10</td>\n",
       "      <td>3.238145e+10</td>\n",
       "    </tr>\n",
       "    <tr>\n",
       "      <th>min</th>\n",
       "      <td>NaN</td>\n",
       "      <td>4.800000e+05</td>\n",
       "      <td>1.660000e+02</td>\n",
       "    </tr>\n",
       "    <tr>\n",
       "      <th>25%</th>\n",
       "      <td>NaN</td>\n",
       "      <td>5.076000e+07</td>\n",
       "      <td>4.232729e+07</td>\n",
       "    </tr>\n",
       "    <tr>\n",
       "      <th>50%</th>\n",
       "      <td>NaN</td>\n",
       "      <td>1.116200e+08</td>\n",
       "      <td>9.520238e+07</td>\n",
       "    </tr>\n",
       "    <tr>\n",
       "      <th>75%</th>\n",
       "      <td>NaN</td>\n",
       "      <td>2.598300e+08</td>\n",
       "      <td>2.242120e+08</td>\n",
       "    </tr>\n",
       "    <tr>\n",
       "      <th>max</th>\n",
       "      <td>NaN</td>\n",
       "      <td>3.164698e+13</td>\n",
       "      <td>2.788629e+13</td>\n",
       "    </tr>\n",
       "  </tbody>\n",
       "</table>\n",
       "</div>"
      ],
      "text/plain": [
       "       event_id       revenue   revenue_eur\n",
       "count       0.0  7.685430e+05  7.685430e+05\n",
       "mean        NaN  2.793585e+08  2.424584e+08\n",
       "std         NaN  3.674286e+10  3.238145e+10\n",
       "min         NaN  4.800000e+05  1.660000e+02\n",
       "25%         NaN  5.076000e+07  4.232729e+07\n",
       "50%         NaN  1.116200e+08  9.520238e+07\n",
       "75%         NaN  2.598300e+08  2.242120e+08\n",
       "max         NaN  3.164698e+13  2.788629e+13"
      ]
     },
     "execution_count": 24,
     "metadata": {
      "tags": []
     },
     "output_type": "execute_result"
    }
   ],
   "source": [
    "attributions_df.info()\n",
    "attributions_df.describe()"
   ]
  },
  {
   "cell_type": "markdown",
   "metadata": {
    "colab_type": "text",
    "id": "hqdpJvdvy0_U"
   },
   "source": [
    "# Uplift report prep"
   ]
  },
  {
   "cell_type": "code",
   "execution_count": 0,
   "metadata": {
    "colab": {},
    "colab_type": "code",
    "id": "XinLEFZcy0_V"
   },
   "outputs": [],
   "source": [
    "# set formatting options\n",
    "pd.set_option('display.float_format', '{:.2f}'.format)"
   ]
  },
  {
   "cell_type": "markdown",
   "metadata": {
    "colab_type": "text",
    "id": "mFwmhMrJy0_z"
   },
   "source": [
    "## Remove invalid users\n",
    "\n",
    "Due to a race condition during marking we need to filter out users that are marked as *control* and *test*. In rare cases we see the same user on different servers in the same second, and unknowingly of each other marked him differently. This was fixed in the latest version of the remerge plattform but we need to filter old data."
   ]
  },
  {
   "cell_type": "code",
   "execution_count": 29,
   "metadata": {
    "colab": {
     "base_uri": "https://localhost:8080/",
     "height": 34
    },
    "colab_type": "code",
    "id": "5bnOSTKly0_1",
    "outputId": "c7de8fd5-efa7-4a99-a35d-e93d9d74a1db"
   },
   "outputs": [
    {
     "data": {
      "text/plain": [
       "5009"
      ]
     },
     "execution_count": 29,
     "metadata": {
      "tags": []
     },
     "output_type": "execute_result"
    }
   ],
   "source": [
    "# users that are in both groups due to racy bids are invalid\n",
    "# we need to filter them out\n",
    "groups_per_user = bid_df.groupby('user_id')['ab_test_group'].nunique()\n",
    "invalid_users = groups_per_user[groups_per_user > 1]"
   ]
  },
  {
   "cell_type": "markdown",
   "metadata": {
    "colab_type": "text",
    "id": "4XVQNpr9y0_7"
   },
   "source": [
    "The `mark_df` dataframe will contain all mark events (without the invalid marks). It is then grouped by the assigend A/B test group."
   ]
  },
  {
   "cell_type": "code",
   "execution_count": 0,
   "metadata": {
    "colab": {},
    "colab_type": "code",
    "id": "a6XtI0Iqy0_8"
   },
   "outputs": [],
   "source": [
    "mark_df = bid_df[bid_df.event_type == 'mark']\n",
    "mark_df = mark_df[~mark_df['user_id'].isin(invalid_users.index)]\n",
    "grouped = mark_df.groupby(by='ab_test_group')\n",
    "control_df = grouped.get_group('control')\n",
    "test_df = grouped.get_group('test')"
   ]
  },
  {
   "cell_type": "markdown",
   "metadata": {
    "colab_type": "text",
    "id": "IPPvDwWIy1AC"
   },
   "source": [
    "Calculate the cost of advertising. Remerge tracks monetary values in micro currency units. "
   ]
  },
  {
   "cell_type": "code",
   "execution_count": 33,
   "metadata": {
    "colab": {
     "base_uri": "https://localhost:8080/",
     "height": 34
    },
    "colab_type": "code",
    "id": "ZEISdQDny1AC",
    "outputId": "2ca86dc7-e75d-4d09-bd90-f6b2a7a1645e"
   },
   "outputs": [
    {
     "data": {
      "text/plain": [
       "6837.308504"
      ]
     },
     "metadata": {
      "tags": []
     },
     "output_type": "display_data"
    }
   ],
   "source": [
    "ad_spend_micros = bid_df[bid_df.event_type == 'buying_conversion']['cost_eur'].sum()\n",
    "ad_spend = ad_spend_micros / 10**6\n",
    "ad_spend"
   ]
  },
  {
   "cell_type": "markdown",
   "metadata": {
    "colab_type": "text",
    "id": "EM9SbRf2y1AG"
   },
   "source": [
    "Create a dataframe that contains all relevant revenue events."
   ]
  },
  {
   "cell_type": "code",
   "execution_count": 0,
   "metadata": {
    "colab": {},
    "colab_type": "code",
    "id": "ONjCFbzIy1AH"
   },
   "outputs": [],
   "source": [
    "revenue_df = attributions_df[pd.notnull(attributions_df['revenue_eur'])]\n",
    "revenue_df = revenue_df[revenue_df.partner_event == revenue_event]"
   ]
  },
  {
   "cell_type": "markdown",
   "metadata": {
    "colab_type": "text",
    "id": "8oPJNEFwy1AT"
   },
   "source": [
    "Remerge marks users per campaign. This analysis looks at the per audience uplift, for that reason we drop duplicate marks for users that were marked by multiple campaigns. If a user was marked once for an audience he will have the same group allocation for consecutive marks unless manually reset on audience level.  "
   ]
  },
  {
   "cell_type": "code",
   "execution_count": 0,
   "metadata": {
    "colab": {},
    "colab_type": "code",
    "id": "R1kAucoJy1AU"
   },
   "outputs": [],
   "source": [
    "sorted_mark_df = mark_df.sort_values('ts')\n",
    "depuplicated_mark_df = sorted_mark_df.drop_duplicates(['user_id'])"
   ]
  },
  {
   "cell_type": "markdown",
   "metadata": {
    "colab_type": "text",
    "id": "ph6eaF4Ny1Ad"
   },
   "source": [
    "Join the marked users with the revenue events and excluded any revenue event that happend before the user was marked."
   ]
  },
  {
   "cell_type": "code",
   "execution_count": 0,
   "metadata": {
    "colab": {},
    "colab_type": "code",
    "id": "3mReofc4y1Ad"
   },
   "outputs": [],
   "source": [
    "merged_df = pd.merge(revenue_df, depuplicated_mark_df, on='user_id')\n",
    "merged_df = merged_df[merged_df.ts_x > merged_df.ts_y]\n"
   ]
  },
  {
   "cell_type": "markdown",
   "metadata": {
    "colab_type": "text",
    "id": "armi-3kmy1Ag"
   },
   "source": [
    "## Calculate uplift kpis\n",
    "\n",
    "We calculate the incremental revenue and the iROAS in line with the [remerge whitepaper](https://drive.google.com/file/d/1PTJ93Cpjw1BeiVns8dTcs2zDDWmmjpdc/view). Afterwards we run a [chi squared test](https://en.wikipedia.org/wiki/Chi-squared_test) on the results to test for significance of the results, comparing conversion to per group uniques."
   ]
  },
  {
   "cell_type": "code",
   "execution_count": 0,
   "metadata": {
    "colab": {},
    "colab_type": "code",
    "id": "V1vKf_u5y1Ag"
   },
   "outputs": [],
   "source": [
    "grouped_revenue = merged_df.groupby(by='ab_test_group_y')\n",
    "test_group_size = test_df['user_id'].nunique()\n",
    "test_revenue_micros = grouped_revenue.get_group('test')['revenue_eur'].sum()\n",
    "test_revenue = test_revenue_micros / 10**6\n",
    "control_group_size = control_df['user_id'].nunique()\n",
    "control_revenue_micros = grouped_revenue.get_group('control')['revenue_eur'].sum()\n",
    "control_revenue = control_revenue_micros / 10**6\n",
    "test_conversions = grouped_revenue.get_group('test')['revenue_eur'].count()\n",
    "control_conversion = grouped_revenue.get_group('control')['revenue_eur'].count()\n",
    "ratio = float(test_group_size) / float(control_group_size)\n",
    "scaled_control_conversions = float(control_conversion) * ratio\n",
    "scaled_control_revenue_micros = float(control_revenue_micros) * ratio\n",
    "incremental_conversions = test_conversions - scaled_control_conversions\n",
    "incremental_revenue_micros = test_revenue_micros - scaled_control_revenue_micros\n",
    "incremental_revenue = incremental_revenue_micros / 10**6\n",
    "iroas = incremental_revenue / ad_spend\n",
    "chi_df = pd.DataFrame({\n",
    "    \"conversions\": [control_conversion, test_conversions],\n",
    "    \"total\": [control_group_size, test_group_size]\n",
    "    }, index=['control', 'test'])\n",
    "\n",
    "chi,p,*_ = scipy.stats.chi2_contingency(pd.concat([chi_df.total - chi_df.conversions, chi_df.conversions], axis=1), correction=False)"
   ]
  },
  {
   "cell_type": "code",
   "execution_count": 49,
   "metadata": {
    "colab": {
     "base_uri": "https://localhost:8080/",
     "height": 638
    },
    "colab_type": "code",
    "id": "2y91jjPVy1Ai",
    "outputId": "0589de58-4a83-4788-dae9-42a7e0b6384e"
   },
   "outputs": [
    {
     "data": {
      "text/html": [
       "<div>\n",
       "<style scoped>\n",
       "    .dataframe tbody tr th:only-of-type {\n",
       "        vertical-align: middle;\n",
       "    }\n",
       "\n",
       "    .dataframe tbody tr th {\n",
       "        vertical-align: top;\n",
       "    }\n",
       "\n",
       "    .dataframe thead th {\n",
       "        text-align: right;\n",
       "    }\n",
       "</style>\n",
       "<table border=\"1\" class=\"dataframe\">\n",
       "  <thead>\n",
       "    <tr style=\"text-align: right;\">\n",
       "      <th></th>\n",
       "      <th>value</th>\n",
       "    </tr>\n",
       "  </thead>\n",
       "  <tbody>\n",
       "    <tr>\n",
       "      <th>ad spend</th>\n",
       "      <td>6837.31</td>\n",
       "    </tr>\n",
       "    <tr>\n",
       "      <th>total revenue</th>\n",
       "      <td>3168493.83</td>\n",
       "    </tr>\n",
       "    <tr>\n",
       "      <th>test group size</th>\n",
       "      <td>332442</td>\n",
       "    </tr>\n",
       "    <tr>\n",
       "      <th>test conversions</th>\n",
       "      <td>18468</td>\n",
       "    </tr>\n",
       "    <tr>\n",
       "      <th>test revenue</th>\n",
       "      <td>2549640.92</td>\n",
       "    </tr>\n",
       "    <tr>\n",
       "      <th>size control group</th>\n",
       "      <td>81292</td>\n",
       "    </tr>\n",
       "    <tr>\n",
       "      <th>control conversion</th>\n",
       "      <td>4402</td>\n",
       "    </tr>\n",
       "    <tr>\n",
       "      <th>control revenue</th>\n",
       "      <td>618852.91</td>\n",
       "    </tr>\n",
       "    <tr>\n",
       "      <th>ratio test/control</th>\n",
       "      <td>4.09</td>\n",
       "    </tr>\n",
       "    <tr>\n",
       "      <th>control conversions (scaled)</th>\n",
       "      <td>18001.89</td>\n",
       "    </tr>\n",
       "    <tr>\n",
       "      <th>control revenue (scaled)</th>\n",
       "      <td>2530786.54</td>\n",
       "    </tr>\n",
       "    <tr>\n",
       "      <th>incremental conversions</th>\n",
       "      <td>466.11</td>\n",
       "    </tr>\n",
       "    <tr>\n",
       "      <th>incremental revenue</th>\n",
       "      <td>18854.37</td>\n",
       "    </tr>\n",
       "    <tr>\n",
       "      <th>rev/conversions test</th>\n",
       "      <td>138.06</td>\n",
       "    </tr>\n",
       "    <tr>\n",
       "      <th>rev/conversions control</th>\n",
       "      <td>140.58</td>\n",
       "    </tr>\n",
       "    <tr>\n",
       "      <th>iROAS</th>\n",
       "      <td>2.76</td>\n",
       "    </tr>\n",
       "    <tr>\n",
       "      <th>chi^2</th>\n",
       "      <td>2.46</td>\n",
       "    </tr>\n",
       "    <tr>\n",
       "      <th>p-value</th>\n",
       "      <td>0.12</td>\n",
       "    </tr>\n",
       "    <tr>\n",
       "      <th>significant</th>\n",
       "      <td>True</td>\n",
       "    </tr>\n",
       "  </tbody>\n",
       "</table>\n",
       "</div>"
      ],
      "text/plain": [
       "                                  value\n",
       "ad spend                        6837.31\n",
       "total revenue                3168493.83\n",
       "test group size                  332442\n",
       "test conversions                  18468\n",
       "test revenue                 2549640.92\n",
       "size control group                81292\n",
       "control conversion                 4402\n",
       "control revenue               618852.91\n",
       "ratio test/control                 4.09\n",
       "control conversions (scaled)   18001.89\n",
       "control revenue (scaled)     2530786.54\n",
       "incremental conversions          466.11\n",
       "incremental revenue            18854.37\n",
       "rev/conversions test             138.06\n",
       "rev/conversions control          140.58\n",
       "iROAS                              2.76\n",
       "chi^2                              2.46\n",
       "p-value                            0.12\n",
       "significant                        True"
      ]
     },
     "metadata": {
      "tags": []
     },
     "output_type": "display_data"
    }
   ],
   "source": [
    "# show results as a dataframe\n",
    "# if you use Python 3.6+ and pandas 0.23+ columns is not needed as\n",
    "# the dict will keep its order\n",
    "# (older verison will sort this by name) \n",
    "\n",
    "result_df = pd.DataFrame({\n",
    "    \"ad spend\": ad_spend,\n",
    "    \"total revenue\": test_revenue + control_revenue,\n",
    "    \"test group size\": test_group_size,\n",
    "    \"test conversions\": test_conversions,\n",
    "    \"test revenue\": test_revenue,\n",
    "    \"size control group\": control_group_size,\n",
    "    \"control conversion\": control_conversion,\n",
    "    \"control revenue\": control_revenue,\n",
    "    \"ratio test/control\": ratio,\n",
    "    \"control conversions (scaled)\": scaled_control_conversions,\n",
    "    \"control revenue (scaled)\": scaled_control_revenue_micros / 10**6,\n",
    "    \"incremental conversions\": incremental_conversions,\n",
    "    \"incremental revenue\": incremental_revenue,\n",
    "    \"rev/conversions test\":test_revenue / test_conversions,\n",
    "    \"rev/conversions control\": control_revenue / control_conversion,\n",
    "    \"iROAS\": iroas,\n",
    "    \"chi^2\":chi,\n",
    "    \"p-value\":p,\n",
    "    \"significant\":p<0.05},index=[\"value\"], \n",
    "    columns=[\"ad spend\",\"total revenue\", \"test group size\",\"test conversions\",\n",
    "             \"test revenue\",\"size control group\",\"control conversion\",\n",
    "             \"control revenue\",\"ratio test/control\",\"control conversions (scaled)\",\n",
    "             \"control revenue (scaled)\",\"incremental conversions\",\n",
    "             \"incremental revenue\",\"rev/conversions test\",\n",
    "             \"rev/conversions control\",\"iROAS\",\"chi^2\",\"p-value\",\"significant\"]\n",
    "  ).transpose()\n",
    "\n",
    "\n",
    "display(result_df)\n"
   ]
  },
  {
   "cell_type": "code",
   "execution_count": 0,
   "metadata": {
    "colab": {},
    "colab_type": "code",
    "id": "XYBPQTk1y1Ak"
   },
   "outputs": [],
   "source": []
  }
 ],
 "metadata": {
  "colab": {
   "collapsed_sections": [],
   "include_colab_link": true,
   "name": "Uplift report colab.ipynb",
   "provenance": [],
   "toc_visible": true,
   "version": "0.3.2"
  },
  "kernelspec": {
   "display_name": "Python 3",
   "language": "python",
   "name": "python3"
  },
  "language_info": {
   "codemirror_mode": {
    "name": "ipython",
    "version": 3
   },
   "file_extension": ".py",
   "mimetype": "text/x-python",
   "name": "python",
   "nbconvert_exporter": "python",
   "pygments_lexer": "ipython3",
   "version": "3.6.7"
  }
 },
 "nbformat": 4,
 "nbformat_minor": 1
}

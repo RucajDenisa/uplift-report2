{
  "nbformat": 4,
  "nbformat_minor": 0,
  "metadata": {
    "colab": {
      "name": "uplift report v2.ipynb",
      "version": "0.3.2",
      "provenance": [],
      "collapsed_sections": [],
      "include_colab_link": true
    },
    "kernelspec": {
      "display_name": "Python 3",
      "language": "python",
      "name": "python3"
    }
  },
  "cells": [
    {
      "cell_type": "markdown",
      "metadata": {
        "id": "view-in-github",
        "colab_type": "text"
      },
      "source": [
        "<a href=\"https://colab.research.google.com/github/remerge/uplift-report/blob/master/uplift_report_per_campaign.ipynb\" target=\"_parent\"><img src=\"https://colab.research.google.com/assets/colab-badge.svg\" alt=\"Open In Colab\"/></a>"
      ]
    },
    {
      "metadata": {
        "colab_type": "text",
        "id": "5mOAgeTNy0-o"
      },
      "cell_type": "markdown",
      "source": [
        "# remerge uplift report\n",
        "\n",
        "This notebook allows you to validate remerge provided uplift reporting numbers. To do so it downloads and analyses exported campaign and event data from S3. The campaign data contains all users that remerge marked to be part of an uplift test, the A/B group assignment, the timestamp of marking, conversion events (click, app open or similar) and their cost. The event data reflects the app event stream and includes events, their timestamp and revenue (if any). We calculate the incremental revenue and the iROAS in line with the [remerge whitepaper](https://drive.google.com/file/d/1PTJ93Cpjw1BeiVns8dTcs2zDDWmmjpdc/view). \n",
        "\n",
        "**Hint**: This notebook can be run in any Jupyter instance with enough space/memory, as a [Google Colab notebook](#Google-Colab-version) or as a standalone Python script. If you are using a copy of this notebook running on Colab or locally you can find the original template on [GitHub: remerge/uplift-report](https://github.com/remerge/uplift-report/blob/master/uplift_report_per_campaign.ipynb)\n",
        "\n",
        "### Notebook configuration\n",
        "\n",
        "For this notebook to work properly several variables in the [Configuration](#Configuration) section need to be be set: `customer`, `audience`, `\n",
        "revenue_event`, `dates` and the AWS credentials. All of these will be provided by your remerge account manager. \n",
        "\n",
        "\n",
        "### Verification\n",
        "\n",
        "To verify that the group split is random and has no bias, user events / attributes before the campaign start can be compared and checked for an equal distribution in test and control group. For example the user age distribution, the user activity distribution or the average spend per user  should be the same in both groups pre campaign.\n",
        "\n"
      ]
    },
    {
      "metadata": {
        "id": "OYbsRBPTaCZW",
        "colab_type": "text"
      },
      "cell_type": "markdown",
      "source": [
        "## Google Colab support\n",
        "\n",
        "This notebook can be run inside Google Colab. Due to size limitations it cointains several optimizations like removing unused fields from the input files and caching files. Furthermore it installs missing dependencies and restarts the kernel. **Because pandas is upgraded the kernel needs to be restarted once per fresh instance. Just run the cell again after restart** "
      ]
    },
    {
      "metadata": {
        "id": "QoJAOpL0aEIT",
        "colab_type": "code",
        "colab": {}
      },
      "cell_type": "code",
      "source": [
        "try:\n",
        "  import google.colab\n",
        "  IN_COLAB = True\n",
        "except:\n",
        "  IN_COLAB = False\n",
        "\n",
        "if IN_COLAB:\n",
        "  !pip install pyarrow\n",
        "  !pip install gspread-pandas\n",
        "  import pandas as pdt\n",
        "  if pdt.__version__ != '0.23.4':\n",
        "    # upgrading pandas requires a restart of the kernel\n",
        "    # (we need an up to date pandas because we write to S3 for caching)\n",
        "    # we kill it and let it auto restart (only needed once per fresh instance)\n",
        "    !pip install pandas==0.23.4\n",
        "    import os\n",
        "    os.kill(os.getpid(), 9)"
      ],
      "execution_count": 0,
      "outputs": []
    },
    {
      "metadata": {
        "colab_type": "text",
        "id": "kyYz6TCny0-q"
      },
      "cell_type": "markdown",
      "source": [
        "## Import needed packages\n",
        "\n",
        "This notebook/script needs pandas and scipy for analysis and boto to access data store on S3.\n"
      ]
    },
    {
      "metadata": {
        "colab_type": "code",
        "id": "GWizAQT3y0-r",
        "colab": {}
      },
      "cell_type": "code",
      "source": [
        "from datetime import datetime\n",
        "import pandas as pd\n",
        "import re\n",
        "import os\n",
        "import gzip\n",
        "import scipy\n",
        "import scipy.stats \n",
        "import s3fs\n",
        "from IPython.display import display # so we can run this as script as well\n",
        "import gc"
      ],
      "execution_count": 0,
      "outputs": []
    },
    {
      "metadata": {
        "colab_type": "text",
        "id": "8u6Q76fCy0-u"
      },
      "cell_type": "markdown",
      "source": [
        "## Configuration\n",
        "\n",
        "Set the customer name, audience and access credentials for the S3 bucket and path. Furthermore the event for which we want to evaluate the uplift needs to be set `revenue_event`."
      ]
    },
    {
      "metadata": {
        "colab_type": "code",
        "id": "aRd9FvoUy0-v",
        "colab": {}
      },
      "cell_type": "code",
      "source": [
        "# configure path and revenue event \n",
        "customer = ''\n",
        "audiences = ['']\n",
        "revenue_event = ''\n",
        "\n",
        "# date range for the report\n",
        "dates = pd.date_range(start='2019-02-14',end='2019-02-27')\n",
        "\n",
        "# grouped report\n",
        "groups = {}\n",
        "  \n",
        "\n",
        "# AWS credentials\n",
        "os.environ[\"AWS_ACCESS_KEY_ID\"] = ''\n",
        "os.environ[\"AWS_SECRET_ACCESS_KEY\"] = ''"
      ],
      "execution_count": 0,
      "outputs": []
    },
    {
      "metadata": {
        "colab_type": "text",
        "id": "7XnJeThPiSye"
      },
      "cell_type": "markdown",
      "source": [
        "## Helper\n",
        "Define a few helper functions to load and cache data."
      ]
    },
    {
      "metadata": {
        "colab_type": "code",
        "id": "bdeQztnqy0--",
        "colab": {}
      },
      "cell_type": "code",
      "source": [
        "def path(audience):\n",
        "  return \"s3://remerge-customers/{0}/uplift_data/{1}\".format(customer,audience)\n",
        "\n",
        "# helper to remove a few things we load if we run in Google Colab\n",
        "def limit_df(df,source):\n",
        "    if not IN_COLAB:\n",
        "      return df\n",
        "    if source != 'attributions':\n",
        "      return df\n",
        "    # we drop a few things so we fit into the Colab memory limit\n",
        "    df.drop(['partner','revenue','revenue_currency'], axis=1)\n",
        "    df = df[df.partner_event == revenue_event]\n",
        "    gc.collect()\n",
        "    return df \n",
        "\n",
        "# helper to download CSV files, convert to DF and print time needed\n",
        "# caches files locally and on S3 to be reused\n",
        "def read_csv(audience, source, date):\n",
        "    now = datetime.now()\n",
        "    date_str = date.strftime('%Y%m%d')\n",
        "    filename = '{0}/{1}/{2}.csv.gz'.format(path(audience), source, date_str)\n",
        "    # local cache\n",
        "    cache_dir = 'cache/{0}/{1}'.format(audience, source)\n",
        "    cache_filename = '{0}/{1}.parquet'.format(cache_dir, date_str)\n",
        "    if os.path.exists(cache_filename):\n",
        "        print(now, 'loading from', cache_filename)\n",
        "        df = pd.read_parquet(cache_filename, engine='pyarrow')\n",
        "        df = limit_df(df,source)\n",
        "        return df\n",
        "    # s3 cache (useful if we don't have enough space on the Colab instance)\n",
        "    s3_cache_filename = '{0}/{1}/cache/{2}.parquet'.format(path(audience), source, date_str)\n",
        "    fs =s3fs. S3FileSystem(anon=False)\n",
        "    if fs.exists(path=s3_cache_filename):\n",
        "      print(now, 'loading from S3 cache', s3_cache_filename)\n",
        "      return pd.read_parquet(s3_cache_filename, engine='pyarrow')\n",
        "    print(now, 'start loading CSV for', audience, source, date)\n",
        "    df = pd.read_csv(filename, escapechar='\\\\')\n",
        "    df = limit_df(df,source)\n",
        "    print(datetime.now(), 'finished loading CSV for', date.strftime('%d.%m.%Y'), 'took', datetime.now()-now)\n",
        "    if not os.path.exists(cache_dir):\n",
        "        os.makedirs(cache_dir)\n",
        "    df.to_parquet(cache_filename, engine='pyarrow')\n",
        "    # write it to the S3 cache folder as well\n",
        "    print(datetime.now(), 'caching as parquet', s3_cache_filename)\n",
        "    df.to_parquet(s3_cache_filename, engine='pyarrow')\n",
        "    return df"
      ],
      "execution_count": 0,
      "outputs": []
    },
    {
      "metadata": {
        "colab_type": "text",
        "id": "eSixTLyiy0_A"
      },
      "cell_type": "markdown",
      "source": [
        "## Load CSV data from S3\n",
        "\n",
        "Load mark, spend and event data from S3. \n",
        "\n",
        "### IMPORTANT\n",
        "\n",
        "**The event data is usually quite large (several GB) so this operation might take several minutes or hours to complete, depending on the size and connection.**"
      ]
    },
    {
      "metadata": {
        "colab_type": "code",
        "id": "PjWaWZS-y0_B",
        "colab": {}
      },
      "cell_type": "code",
      "source": [
        "bids_df = pd.concat([read_csv(audience,'marks_and_spend',date) for audience in audiences for date in dates], ignore_index = True, verify_integrity=True)"
      ],
      "execution_count": 0,
      "outputs": []
    },
    {
      "metadata": {
        "colab_type": "code",
        "id": "zxjJ4gK3y0_E",
        "colab": {}
      },
      "cell_type": "code",
      "source": [
        "attributions_df = pd.concat([read_csv(audience,'attributions',date) for audience in audiences for date in dates], ignore_index = True, verify_integrity=True)"
      ],
      "execution_count": 0,
      "outputs": []
    },
    {
      "metadata": {
        "colab_type": "text",
        "id": "Ec_qFUaVy0_I"
      },
      "cell_type": "markdown",
      "source": [
        "Print some statistics of the loaded data sets."
      ]
    },
    {
      "metadata": {
        "colab_type": "code",
        "id": "N0Ih6SSuy0_J",
        "outputId": "16f6ee88-38c7-4f20-ac70-10eab7aac57f",
        "colab": {
          "base_uri": "https://localhost:8080/",
          "height": 255
        }
      },
      "cell_type": "code",
      "source": [
        "bids_df.info()"
      ],
      "execution_count": 28,
      "outputs": [
        {
          "output_type": "stream",
          "text": [
            "<class 'pandas.core.frame.DataFrame'>\n",
            "RangeIndex: 535434 entries, 0 to 535433\n",
            "Data columns (total 9 columns):\n",
            "ts               535434 non-null object\n",
            "event_type       535434 non-null object\n",
            "ab_test_group    535434 non-null object\n",
            "user_id          535422 non-null object\n",
            "campaign_id      535434 non-null int64\n",
            "cost_currency    25657 non-null object\n",
            "cost             25657 non-null float64\n",
            "cost_eur         25657 non-null float64\n",
            "campaign_name    535434 non-null object\n",
            "dtypes: float64(2), int64(1), object(6)\n",
            "memory usage: 36.8+ MB\n"
          ],
          "name": "stdout"
        }
      ]
    },
    {
      "metadata": {
        "colab_type": "code",
        "id": "EoU_cW07y0_M",
        "outputId": "a67a3e1f-a0ee-4bae-8868-e9855e07e946",
        "colab": {
          "base_uri": "https://localhost:8080/",
          "height": 272
        }
      },
      "cell_type": "code",
      "source": [
        "attributions_df.info()"
      ],
      "execution_count": 0,
      "outputs": [
        {
          "output_type": "stream",
          "text": [
            "<class 'pandas.core.frame.DataFrame'>\n",
            "RangeIndex: 1266684 entries, 0 to 1266683\n",
            "Data columns (total 10 columns):\n",
            "ts                  1266684 non-null object\n",
            "user_id             1266684 non-null object\n",
            "event_id            0 non-null float64\n",
            "partner             1266684 non-null object\n",
            "partner_event       1266684 non-null object\n",
            "revenue             1263513 non-null float64\n",
            "revenue_currency    1266684 non-null object\n",
            "revenue_eur         1263513 non-null float64\n",
            "ab_test_group       38044 non-null object\n",
            "event_data          1266684 non-null object\n",
            "dtypes: float64(3), object(7)\n",
            "memory usage: 96.6+ MB\n"
          ],
          "name": "stdout"
        }
      ]
    },
    {
      "metadata": {
        "colab_type": "code",
        "id": "XinLEFZcy0_V",
        "colab": {}
      },
      "cell_type": "code",
      "source": [
        "# set formatting options\n",
        "pd.set_option('display.float_format', '{:.2f}'.format)"
      ],
      "execution_count": 0,
      "outputs": []
    },
    {
      "metadata": {
        "colab_type": "text",
        "id": "mFwmhMrJy0_z"
      },
      "cell_type": "markdown",
      "source": [
        "## Remove invalid users\n",
        "\n",
        "Due to a race condition during marking we need to filter out users that are marked as *control* and *test*. In rare cases we see the same user on different servers in the same second, and unknowingly of each other marked him differently. This was fixed in the latest version of the remerge plattform but we need to filter old data."
      ]
    },
    {
      "metadata": {
        "colab_type": "code",
        "id": "5bnOSTKly0_1",
        "colab": {}
      },
      "cell_type": "code",
      "source": [
        "# users that are in both groups due to racy bids are invalid\n",
        "# we need to filter them out\n",
        "groups_per_user = bids_df.groupby('user_id')['ab_test_group'].nunique()\n",
        "invalid_users = groups_per_user[groups_per_user > 1]"
      ],
      "execution_count": 0,
      "outputs": []
    },
    {
      "metadata": {
        "colab_type": "text",
        "id": "4XVQNpr9y0_7"
      },
      "cell_type": "markdown",
      "source": [
        "## Define functions to prepare data frames\n"
      ]
    },
    {
      "metadata": {
        "colab_type": "text",
        "id": "IPPvDwWIy1AC"
      },
      "cell_type": "markdown",
      "source": [
        "Calculate the cost of advertising give a dataframe. Remerge tracks monetary values in micro currency units. "
      ]
    },
    {
      "metadata": {
        "colab_type": "code",
        "id": "ZEISdQDny1AC",
        "colab": {}
      },
      "cell_type": "code",
      "source": [
        "def ad_spend(df):\n",
        "  ad_spend_micros = df[df.event_type == 'buying_conversion']['cost_eur'].sum()\n",
        "  return ad_spend_micros / 10**6"
      ],
      "execution_count": 0,
      "outputs": []
    },
    {
      "metadata": {
        "id": "XgJuPnbAJu3w",
        "colab_type": "text"
      },
      "cell_type": "markdown",
      "source": [
        "The dataframe created by `marked`  will contain all mark events (without the invalid marks). Remerge marks users per campaign.  If a user was marked once for an audience he will have the same group allocation for consecutive marks (different campaigns) unless manually reset on audience level.  "
      ]
    },
    {
      "metadata": {
        "colab_type": "code",
        "id": "a6XtI0Iqy0_8",
        "colab": {}
      },
      "cell_type": "code",
      "source": [
        "def marked(df):\n",
        "  mark_df = df[df.event_type == 'mark']\n",
        "  mark_df = mark_df[~mark_df['user_id'].isin(invalid_users.index)]\n",
        "  sorted_mark_df = mark_df.sort_values('ts')\n",
        "  depuplicated_mark_df = sorted_mark_df.drop_duplicates(['user_id'])\n",
        "  return depuplicated_mark_df"
      ],
      "execution_count": 0,
      "outputs": []
    },
    {
      "metadata": {
        "colab_type": "text",
        "id": "EM9SbRf2y1AG"
      },
      "cell_type": "markdown",
      "source": [
        "`revenue` creates a dataframe that contains all relevant revenue events."
      ]
    },
    {
      "metadata": {
        "colab_type": "code",
        "id": "ONjCFbzIy1AH",
        "colab": {}
      },
      "cell_type": "code",
      "source": [
        "def revenue(df):\n",
        "  revenue_df = df[pd.notnull(df['revenue_eur'])]\n",
        "  return revenue_df[revenue_df.partner_event == revenue_event]"
      ],
      "execution_count": 0,
      "outputs": []
    },
    {
      "metadata": {
        "colab_type": "text",
        "id": "ph6eaF4Ny1Ad"
      },
      "cell_type": "markdown",
      "source": [
        "`merge` joins the marked users with the revenue events and excludes any revenue event that happend before the user was marked."
      ]
    },
    {
      "metadata": {
        "colab_type": "code",
        "id": "3mReofc4y1Ad",
        "colab": {}
      },
      "cell_type": "code",
      "source": [
        "def merge(mark_df,revenue_df):\n",
        "  merged_df = pd.merge(revenue_df, mark_df, on='user_id')\n",
        "  return merged_df[merged_df.ts_x > merged_df.ts_y]\n"
      ],
      "execution_count": 0,
      "outputs": []
    },
    {
      "metadata": {
        "colab_type": "text",
        "id": "armi-3kmy1Ag"
      },
      "cell_type": "markdown",
      "source": [
        "## Calculate uplift kpis\n",
        "\n",
        "We calculate the incremental revenue and the iROAS in line with the [remerge whitepaper](https://drive.google.com/file/d/1PTJ93Cpjw1BeiVns8dTcs2zDDWmmjpdc/view). Afterwards we run a [chi squared test](https://en.wikipedia.org/wiki/Chi-squared_test) on the results to test for significance of the results, comparing conversion to per group uniques."
      ]
    },
    {
      "metadata": {
        "colab_type": "code",
        "id": "V1vKf_u5y1Ag",
        "colab": {}
      },
      "cell_type": "code",
      "source": [
        "def uplift(ad_spend,mark_df,revenue_df,index_name):\n",
        "  # group marked users by their ab_test_group\n",
        "  grouped = mark_df.groupby(by='ab_test_group')\n",
        "  control_df = grouped.get_group('control')\n",
        "  test_df = grouped.get_group('test')\n",
        "  \n",
        "  # join marks and revenue events\n",
        "  merged_df = merge(mark_df,revenue_df)\n",
        "  grouped_revenue = merged_df.groupby(by='ab_test_group_y')\n",
        "  \n",
        "  # calculate KPIs\n",
        "  test_group_size = test_df['user_id'].nunique()\n",
        "  test_revenue_micros = grouped_revenue.get_group('test')['revenue_eur'].sum()\n",
        "  test_revenue = test_revenue_micros / 10**6\n",
        "  control_group_size = control_df['user_id'].nunique()\n",
        "  control_revenue_micros = grouped_revenue.get_group('control')['revenue_eur'].sum()\n",
        "  control_revenue = control_revenue_micros / 10**6\n",
        "  test_conversions = grouped_revenue.get_group('test')['revenue_eur'].count()\n",
        "  control_conversion = grouped_revenue.get_group('control')['revenue_eur'].count()\n",
        "  ratio = float(test_group_size) / float(control_group_size)\n",
        "  scaled_control_conversions = float(control_conversion) * ratio\n",
        "  scaled_control_revenue_micros = float(control_revenue_micros) * ratio\n",
        "  incremental_conversions = test_conversions - scaled_control_conversions\n",
        "  incremental_revenue_micros = test_revenue_micros - scaled_control_revenue_micros\n",
        "  incremental_revenue = incremental_revenue_micros / 10**6\n",
        "  iroas = incremental_revenue / ad_spend\n",
        "  chi_df = pd.DataFrame({\n",
        "    \"conversions\": [control_conversion, test_conversions],\n",
        "    \"total\": [control_group_size, test_group_size]\n",
        "    }, index=['control', 'test'])\n",
        "\n",
        "  chi,p,*_ = scipy.stats.chi2_contingency(pd.concat([chi_df.total - chi_df.conversions, chi_df.conversions], axis=1), correction=False)\n",
        "  \n",
        "  # show results as a dataframe\n",
        "  # if you use Python 3.6+ and pandas 0.23+ columns is not needed as\n",
        "  # the dict will keep its order\n",
        "  # (older verison will sort this by name) \n",
        "\n",
        "  return pd.DataFrame({\n",
        "    \"ad spend\": ad_spend,\n",
        "    \"total revenue\": test_revenue + control_revenue,\n",
        "    \"test group size\": test_group_size,\n",
        "    \"test conversions\": test_conversions,\n",
        "    \"test revenue\": test_revenue,\n",
        "    \"size control group\": control_group_size,\n",
        "    \"control conversion\": control_conversion,\n",
        "    \"control revenue\": control_revenue,\n",
        "    \"ratio test/control\": ratio,\n",
        "    \"control conversions (scaled)\": scaled_control_conversions,\n",
        "    \"control revenue (scaled)\": scaled_control_revenue_micros / 10**6,\n",
        "    \"incremental conversions\": incremental_conversions,\n",
        "    \"incremental revenue\": incremental_revenue,\n",
        "    \"rev/conversions test\":test_revenue / test_conversions,\n",
        "    \"rev/conversions control\": control_revenue / control_conversion,\n",
        "    \"iROAS\": iroas,\n",
        "    \"chi^2\":chi,\n",
        "    \"p-value\":p,\n",
        "    \"significant\":p<0.05},index=[index_name], \n",
        "    columns=[\"ad spend\",\"total revenue\", \"test group size\",\"test conversions\",\n",
        "             \"test revenue\",\"size control group\",\"control conversion\",\n",
        "             \"control revenue\",\"ratio test/control\",\"control conversions (scaled)\",\n",
        "             \"control revenue (scaled)\",\"incremental conversions\",\n",
        "             \"incremental revenue\",\"rev/conversions test\",\n",
        "             \"rev/conversions control\",\"iROAS\",\"chi^2\",\"p-value\",\"significant\"]\n",
        "  ).transpose()\n"
      ],
      "execution_count": 0,
      "outputs": []
    },
    {
      "metadata": {
        "id": "RHcTkY6GHFZL",
        "colab_type": "code",
        "colab": {}
      },
      "cell_type": "code",
      "source": [
        "# helper that adds a uplift report to a dataframe give a name\n",
        "def add_uplift_report(name, target_df, df):\n",
        "  tmp = uplift(ad_spend(df),marked(df),revenue_df,name)\n",
        "  if target_df is not None:\n",
        "    target_df[name] = tmp[name]\n",
        "  else:\n",
        "    target_df = tmp\n",
        "  return target_df "
      ],
      "execution_count": 0,
      "outputs": []
    },
    {
      "metadata": {
        "id": "tKdBRvkxL8Aa",
        "colab_type": "text"
      },
      "cell_type": "markdown",
      "source": [
        "### Calculate and display uplift report for the data set as a whole\n",
        "\n",
        "This takes the whole data set and calculates uplift KPIs."
      ]
    },
    {
      "metadata": {
        "colab_type": "code",
        "id": "2y91jjPVy1Ai",
        "outputId": "2f0df2b3-9bbc-419d-d9be-0ffd5e1f4b14",
        "colab": {
          "base_uri": "https://localhost:8080/",
          "height": 638
        }
      },
      "cell_type": "code",
      "source": [
        "revenue_df = revenue(attributions_df)\n",
        "mark_df = marked(bids_df)\n",
        "uplift(ad_spend(bids_df),mark_df,revenue_df,\"total\")"
      ],
      "execution_count": 23,
      "outputs": [
        {
          "output_type": "execute_result",
          "data": {
            "text/html": [
              "<div>\n",
              "<style scoped>\n",
              "    .dataframe tbody tr th:only-of-type {\n",
              "        vertical-align: middle;\n",
              "    }\n",
              "\n",
              "    .dataframe tbody tr th {\n",
              "        vertical-align: top;\n",
              "    }\n",
              "\n",
              "    .dataframe thead th {\n",
              "        text-align: right;\n",
              "    }\n",
              "</style>\n",
              "<table border=\"1\" class=\"dataframe\">\n",
              "  <thead>\n",
              "    <tr style=\"text-align: right;\">\n",
              "      <th></th>\n",
              "      <th>total</th>\n",
              "    </tr>\n",
              "  </thead>\n",
              "  <tbody>\n",
              "    <tr>\n",
              "      <th>ad spend</th>\n",
              "      <td>6837.31</td>\n",
              "    </tr>\n",
              "    <tr>\n",
              "      <th>total revenue</th>\n",
              "      <td>3168493.83</td>\n",
              "    </tr>\n",
              "    <tr>\n",
              "      <th>test group size</th>\n",
              "      <td>332442</td>\n",
              "    </tr>\n",
              "    <tr>\n",
              "      <th>test conversions</th>\n",
              "      <td>18468</td>\n",
              "    </tr>\n",
              "    <tr>\n",
              "      <th>test revenue</th>\n",
              "      <td>2549640.92</td>\n",
              "    </tr>\n",
              "    <tr>\n",
              "      <th>size control group</th>\n",
              "      <td>81292</td>\n",
              "    </tr>\n",
              "    <tr>\n",
              "      <th>control conversion</th>\n",
              "      <td>4402</td>\n",
              "    </tr>\n",
              "    <tr>\n",
              "      <th>control revenue</th>\n",
              "      <td>618852.91</td>\n",
              "    </tr>\n",
              "    <tr>\n",
              "      <th>ratio test/control</th>\n",
              "      <td>4.09</td>\n",
              "    </tr>\n",
              "    <tr>\n",
              "      <th>control conversions (scaled)</th>\n",
              "      <td>18001.89</td>\n",
              "    </tr>\n",
              "    <tr>\n",
              "      <th>control revenue (scaled)</th>\n",
              "      <td>2530786.54</td>\n",
              "    </tr>\n",
              "    <tr>\n",
              "      <th>incremental conversions</th>\n",
              "      <td>466.11</td>\n",
              "    </tr>\n",
              "    <tr>\n",
              "      <th>incremental revenue</th>\n",
              "      <td>18854.37</td>\n",
              "    </tr>\n",
              "    <tr>\n",
              "      <th>rev/conversions test</th>\n",
              "      <td>138.06</td>\n",
              "    </tr>\n",
              "    <tr>\n",
              "      <th>rev/conversions control</th>\n",
              "      <td>140.58</td>\n",
              "    </tr>\n",
              "    <tr>\n",
              "      <th>iROAS</th>\n",
              "      <td>2.76</td>\n",
              "    </tr>\n",
              "    <tr>\n",
              "      <th>chi^2</th>\n",
              "      <td>2.46</td>\n",
              "    </tr>\n",
              "    <tr>\n",
              "      <th>p-value</th>\n",
              "      <td>0.12</td>\n",
              "    </tr>\n",
              "    <tr>\n",
              "      <th>significant</th>\n",
              "      <td>False</td>\n",
              "    </tr>\n",
              "  </tbody>\n",
              "</table>\n",
              "</div>"
            ],
            "text/plain": [
              "                                  total\n",
              "ad spend                        6837.31\n",
              "total revenue                3168493.83\n",
              "test group size                  332442\n",
              "test conversions                  18468\n",
              "test revenue                 2549640.92\n",
              "size control group                81292\n",
              "control conversion                 4402\n",
              "control revenue               618852.91\n",
              "ratio test/control                 4.09\n",
              "control conversions (scaled)   18001.89\n",
              "control revenue (scaled)     2530786.54\n",
              "incremental conversions          466.11\n",
              "incremental revenue            18854.37\n",
              "rev/conversions test             138.06\n",
              "rev/conversions control          140.58\n",
              "iROAS                              2.76\n",
              "chi^2                              2.46\n",
              "p-value                            0.12\n",
              "significant                       False"
            ]
          },
          "metadata": {
            "tags": []
          },
          "execution_count": 23
        }
      ]
    },
    {
      "metadata": {
        "id": "Lcw0S2p2MHwu",
        "colab_type": "text"
      },
      "cell_type": "markdown",
      "source": [
        "### Calculate uplift report per group (if configured)\n",
        "\n",
        "Sometimes it makes sense to look at groups of similar campaigns. If the `groups`  dictionary contains group names as keys and a list of campaign ids as values per key, this function will compile a per group report. "
      ]
    },
    {
      "metadata": {
        "id": "w-OaxnWLGXTZ",
        "colab_type": "code",
        "colab": {}
      },
      "cell_type": "code",
      "source": [
        "# if there are groups filter the events against the per campaign groups and generate report\n",
        "if len(groups) > 0:\n",
        "  per_group_df = None\n",
        "  for name, campaigns in groups.items():\n",
        "    per_group_df = add_uplift_report(name,per_group_df,bids_df[bids_df.campaign_id.isin(campaigns)])\n",
        "  display(per_group_df)"
      ],
      "execution_count": 0,
      "outputs": []
    },
    {
      "metadata": {
        "id": "cbZZDsqcMPrI",
        "colab_type": "text"
      },
      "cell_type": "markdown",
      "source": [
        "### Calculate uplift report per campaign\n",
        "\n",
        "Sometimes it makes sense to look at the uplift report per campaign. Each campaign usually reflects one segement of users. To do that we iterate over all campaigns in the current dataset."
      ]
    },
    {
      "metadata": {
        "id": "bOfbElnCEHhP",
        "colab_type": "code",
        "outputId": "55021dee-4354-4c94-a1da-a3360eb34292",
        "colab": {
          "base_uri": "https://localhost:8080/",
          "height": 638
        }
      },
      "cell_type": "code",
      "source": [
        "per_campaign_df = None\n",
        "for campaign in bids_df['campaign_id'].unique():\n",
        "  name = \"c_{0}\".format(campaign)\n",
        "  df = bids_df[bids_df.campaign_id == campaign]\n",
        "  tmp = uplift(ad_spend(df),marked(df),revenue_df,name)\n",
        "  if per_campaign_df is not None:\n",
        "    per_campaign_df[name] = tmp[name]\n",
        "  else:\n",
        "    per_campaign_df = tmp\n",
        "per_campaign_df"
      ],
      "execution_count": 26,
      "outputs": [
        {
          "output_type": "execute_result",
          "data": {
            "text/html": [
              "<div>\n",
              "<style scoped>\n",
              "    .dataframe tbody tr th:only-of-type {\n",
              "        vertical-align: middle;\n",
              "    }\n",
              "\n",
              "    .dataframe tbody tr th {\n",
              "        vertical-align: top;\n",
              "    }\n",
              "\n",
              "    .dataframe thead th {\n",
              "        text-align: right;\n",
              "    }\n",
              "</style>\n",
              "<table border=\"1\" class=\"dataframe\">\n",
              "  <thead>\n",
              "    <tr style=\"text-align: right;\">\n",
              "      <th></th>\n",
              "      <th>c_16171</th>\n",
              "      <th>c_16172</th>\n",
              "      <th>c_16173</th>\n",
              "      <th>c_16174</th>\n",
              "      <th>c_16175</th>\n",
              "      <th>c_16177</th>\n",
              "      <th>c_17100</th>\n",
              "      <th>c_17099</th>\n",
              "    </tr>\n",
              "  </thead>\n",
              "  <tbody>\n",
              "    <tr>\n",
              "      <th>ad spend</th>\n",
              "      <td>2109.71</td>\n",
              "      <td>876.69</td>\n",
              "      <td>1404.18</td>\n",
              "      <td>982.93</td>\n",
              "      <td>468.14</td>\n",
              "      <td>420.08</td>\n",
              "      <td>292.95</td>\n",
              "      <td>282.61</td>\n",
              "    </tr>\n",
              "    <tr>\n",
              "      <th>total revenue</th>\n",
              "      <td>1010707.00</td>\n",
              "      <td>188201.05</td>\n",
              "      <td>207442.42</td>\n",
              "      <td>93475.03</td>\n",
              "      <td>1014197.23</td>\n",
              "      <td>420039.53</td>\n",
              "      <td>231259.53</td>\n",
              "      <td>128966.90</td>\n",
              "    </tr>\n",
              "    <tr>\n",
              "      <th>test group size</th>\n",
              "      <td>56594</td>\n",
              "      <td>27503</td>\n",
              "      <td>39984</td>\n",
              "      <td>34755</td>\n",
              "      <td>66176</td>\n",
              "      <td>62081</td>\n",
              "      <td>38666</td>\n",
              "      <td>55993</td>\n",
              "    </tr>\n",
              "    <tr>\n",
              "      <th>test conversions</th>\n",
              "      <td>8594</td>\n",
              "      <td>1500</td>\n",
              "      <td>1473</td>\n",
              "      <td>648</td>\n",
              "      <td>4016</td>\n",
              "      <td>1364</td>\n",
              "      <td>1006</td>\n",
              "      <td>512</td>\n",
              "    </tr>\n",
              "    <tr>\n",
              "      <th>test revenue</th>\n",
              "      <td>814947.23</td>\n",
              "      <td>151798.24</td>\n",
              "      <td>165654.53</td>\n",
              "      <td>75797.69</td>\n",
              "      <td>831555.16</td>\n",
              "      <td>330499.45</td>\n",
              "      <td>181696.89</td>\n",
              "      <td>100263.51</td>\n",
              "    </tr>\n",
              "    <tr>\n",
              "      <th>size control group</th>\n",
              "      <td>13744</td>\n",
              "      <td>6657</td>\n",
              "      <td>9486</td>\n",
              "      <td>8555</td>\n",
              "      <td>16242</td>\n",
              "      <td>15162</td>\n",
              "      <td>9538</td>\n",
              "      <td>13747</td>\n",
              "    </tr>\n",
              "    <tr>\n",
              "      <th>control conversion</th>\n",
              "      <td>2090</td>\n",
              "      <td>317</td>\n",
              "      <td>390</td>\n",
              "      <td>145</td>\n",
              "      <td>873</td>\n",
              "      <td>363</td>\n",
              "      <td>242</td>\n",
              "      <td>134</td>\n",
              "    </tr>\n",
              "    <tr>\n",
              "      <th>control revenue</th>\n",
              "      <td>195759.77</td>\n",
              "      <td>36402.81</td>\n",
              "      <td>41787.89</td>\n",
              "      <td>17677.34</td>\n",
              "      <td>182642.07</td>\n",
              "      <td>89540.08</td>\n",
              "      <td>49562.64</td>\n",
              "      <td>28703.39</td>\n",
              "    </tr>\n",
              "    <tr>\n",
              "      <th>ratio test/control</th>\n",
              "      <td>4.12</td>\n",
              "      <td>4.13</td>\n",
              "      <td>4.22</td>\n",
              "      <td>4.06</td>\n",
              "      <td>4.07</td>\n",
              "      <td>4.09</td>\n",
              "      <td>4.05</td>\n",
              "      <td>4.07</td>\n",
              "    </tr>\n",
              "    <tr>\n",
              "      <th>control conversions (scaled)</th>\n",
              "      <td>8606.04</td>\n",
              "      <td>1309.67</td>\n",
              "      <td>1643.87</td>\n",
              "      <td>589.07</td>\n",
              "      <td>3556.93</td>\n",
              "      <td>1486.31</td>\n",
              "      <td>981.04</td>\n",
              "      <td>545.80</td>\n",
              "    </tr>\n",
              "    <tr>\n",
              "      <th>control revenue (scaled)</th>\n",
              "      <td>806084.72</td>\n",
              "      <td>150396.04</td>\n",
              "      <td>176138.19</td>\n",
              "      <td>71814.83</td>\n",
              "      <td>744152.28</td>\n",
              "      <td>366622.98</td>\n",
              "      <td>200921.48</td>\n",
              "      <td>116911.97</td>\n",
              "    </tr>\n",
              "    <tr>\n",
              "      <th>incremental conversions</th>\n",
              "      <td>-12.04</td>\n",
              "      <td>190.33</td>\n",
              "      <td>-170.87</td>\n",
              "      <td>58.93</td>\n",
              "      <td>459.07</td>\n",
              "      <td>-122.31</td>\n",
              "      <td>24.96</td>\n",
              "      <td>-33.80</td>\n",
              "    </tr>\n",
              "    <tr>\n",
              "      <th>incremental revenue</th>\n",
              "      <td>8862.52</td>\n",
              "      <td>1402.21</td>\n",
              "      <td>-10483.66</td>\n",
              "      <td>3982.86</td>\n",
              "      <td>87402.88</td>\n",
              "      <td>-36123.53</td>\n",
              "      <td>-19224.59</td>\n",
              "      <td>-16648.46</td>\n",
              "    </tr>\n",
              "    <tr>\n",
              "      <th>rev/conversions test</th>\n",
              "      <td>94.83</td>\n",
              "      <td>101.20</td>\n",
              "      <td>112.46</td>\n",
              "      <td>116.97</td>\n",
              "      <td>207.06</td>\n",
              "      <td>242.30</td>\n",
              "      <td>180.61</td>\n",
              "      <td>195.83</td>\n",
              "    </tr>\n",
              "    <tr>\n",
              "      <th>rev/conversions control</th>\n",
              "      <td>93.66</td>\n",
              "      <td>114.84</td>\n",
              "      <td>107.15</td>\n",
              "      <td>121.91</td>\n",
              "      <td>209.21</td>\n",
              "      <td>246.67</td>\n",
              "      <td>204.80</td>\n",
              "      <td>214.20</td>\n",
              "    </tr>\n",
              "    <tr>\n",
              "      <th>iROAS</th>\n",
              "      <td>4.20</td>\n",
              "      <td>1.60</td>\n",
              "      <td>-7.47</td>\n",
              "      <td>4.05</td>\n",
              "      <td>186.70</td>\n",
              "      <td>-85.99</td>\n",
              "      <td>-65.62</td>\n",
              "      <td>-58.91</td>\n",
              "    </tr>\n",
              "    <tr>\n",
              "      <th>chi^2</th>\n",
              "      <td>0.00</td>\n",
              "      <td>5.10</td>\n",
              "      <td>3.86</td>\n",
              "      <td>1.10</td>\n",
              "      <td>11.25</td>\n",
              "      <td>2.16</td>\n",
              "      <td>0.13</td>\n",
              "      <td>0.44</td>\n",
              "    </tr>\n",
              "    <tr>\n",
              "      <th>p-value</th>\n",
              "      <td>0.95</td>\n",
              "      <td>0.02</td>\n",
              "      <td>0.05</td>\n",
              "      <td>0.29</td>\n",
              "      <td>0.00</td>\n",
              "      <td>0.14</td>\n",
              "      <td>0.72</td>\n",
              "      <td>0.51</td>\n",
              "    </tr>\n",
              "    <tr>\n",
              "      <th>significant</th>\n",
              "      <td>False</td>\n",
              "      <td>True</td>\n",
              "      <td>True</td>\n",
              "      <td>False</td>\n",
              "      <td>True</td>\n",
              "      <td>False</td>\n",
              "      <td>False</td>\n",
              "      <td>False</td>\n",
              "    </tr>\n",
              "  </tbody>\n",
              "</table>\n",
              "</div>"
            ],
            "text/plain": [
              "                                c_16171   c_16172   c_16173  c_16174  \\\n",
              "ad spend                        2109.71    876.69   1404.18   982.93   \n",
              "total revenue                1010707.00 188201.05 207442.42 93475.03   \n",
              "test group size                   56594     27503     39984    34755   \n",
              "test conversions                   8594      1500      1473      648   \n",
              "test revenue                  814947.23 151798.24 165654.53 75797.69   \n",
              "size control group                13744      6657      9486     8555   \n",
              "control conversion                 2090       317       390      145   \n",
              "control revenue               195759.77  36402.81  41787.89 17677.34   \n",
              "ratio test/control                 4.12      4.13      4.22     4.06   \n",
              "control conversions (scaled)    8606.04   1309.67   1643.87   589.07   \n",
              "control revenue (scaled)      806084.72 150396.04 176138.19 71814.83   \n",
              "incremental conversions          -12.04    190.33   -170.87    58.93   \n",
              "incremental revenue             8862.52   1402.21 -10483.66  3982.86   \n",
              "rev/conversions test              94.83    101.20    112.46   116.97   \n",
              "rev/conversions control           93.66    114.84    107.15   121.91   \n",
              "iROAS                              4.20      1.60     -7.47     4.05   \n",
              "chi^2                              0.00      5.10      3.86     1.10   \n",
              "p-value                            0.95      0.02      0.05     0.29   \n",
              "significant                       False      True      True    False   \n",
              "\n",
              "                                c_16175   c_16177   c_17100   c_17099  \n",
              "ad spend                         468.14    420.08    292.95    282.61  \n",
              "total revenue                1014197.23 420039.53 231259.53 128966.90  \n",
              "test group size                   66176     62081     38666     55993  \n",
              "test conversions                   4016      1364      1006       512  \n",
              "test revenue                  831555.16 330499.45 181696.89 100263.51  \n",
              "size control group                16242     15162      9538     13747  \n",
              "control conversion                  873       363       242       134  \n",
              "control revenue               182642.07  89540.08  49562.64  28703.39  \n",
              "ratio test/control                 4.07      4.09      4.05      4.07  \n",
              "control conversions (scaled)    3556.93   1486.31    981.04    545.80  \n",
              "control revenue (scaled)      744152.28 366622.98 200921.48 116911.97  \n",
              "incremental conversions          459.07   -122.31     24.96    -33.80  \n",
              "incremental revenue            87402.88 -36123.53 -19224.59 -16648.46  \n",
              "rev/conversions test             207.06    242.30    180.61    195.83  \n",
              "rev/conversions control          209.21    246.67    204.80    214.20  \n",
              "iROAS                            186.70    -85.99    -65.62    -58.91  \n",
              "chi^2                             11.25      2.16      0.13      0.44  \n",
              "p-value                            0.00      0.14      0.72      0.51  \n",
              "significant                        True     False     False     False  "
            ]
          },
          "metadata": {
            "tags": []
          },
          "execution_count": 26
        }
      ]
    }
  ]
}